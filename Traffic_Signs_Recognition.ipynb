{
 "cells": [
  {
   "cell_type": "markdown",
   "metadata": {},
   "source": [
    "# Self-Driving Car Engineer Nanodegree\n",
    "\n",
    "## Deep Learning\n",
    "\n",
    "## Project: Build a Traffic Sign Recognition Classifier\n",
    "\n",
    "In this notebook, a template is provided for you to implement your functionality in stages which is required to successfully complete this project. If additional code is required that cannot be included in the notebook, be sure that the Python code is successfully imported and included in your submission, if necessary. Sections that begin with **'Implementation'** in the header indicate where you should begin your implementation for your project. Note that some sections of implementation are optional, and will be marked with **'Optional'** in the header.\n",
    "\n",
    "In addition to implementing code, there will be questions that you must answer which relate to the project and your implementation. Each section where you will answer a question is preceded by a **'Question'** header. Carefully read each question and provide thorough answers in the following text boxes that begin with **'Answer:'**. Your project submission will be evaluated based on your answers to each of the questions and the implementation you provide.\n",
    "\n",
    ">**Note:** Code and Markdown cells can be executed using the **Shift + Enter** keyboard shortcut. In addition, Markdown cells can be edited by typically double-clicking the cell to enter edit mode."
   ]
  },
  {
   "cell_type": "markdown",
   "metadata": {},
   "source": [
    "---\n",
    "\n",
    "## Step 1: Dataset Exploration\n",
    "\n",
    "Visualize the German Traffic Signs Dataset. This is open ended, some suggestions include: plotting traffic signs images, plotting the count of each sign, etc. Be creative!\n",
    "\n",
    "\n",
    "The pickled data is a dictionary with 4 key/value pairs:\n",
    "\n",
    "- features -> the images pixel values, (width, height, channels)\n",
    "- labels -> the label of the traffic sign\n",
    "- sizes -> the original width and height of the image, (width, height)\n",
    "- coords -> coordinates of a bounding box around the sign in the image, (x1, y1, x2, y2). Based the original image (not the resized version)."
   ]
  },
  {
   "cell_type": "code",
   "execution_count": 9,
   "metadata": {
    "collapsed": true
   },
   "outputs": [],
   "source": [
    "# Load pickled data\n",
    "import pickle\n",
    "import numpy as np\n",
    "\n",
    "training_file = '/home/ubuntu/traffic-signs/train.p'\n",
    "testing_file = '/home/ubuntu/traffic-signs/test.p'\n",
    "\n",
    "with open(training_file, mode='rb') as f:\n",
    "    train = pickle.load(f)\n",
    "with open(testing_file, mode='rb') as f:\n",
    "    test = pickle.load(f)\n",
    "    \n",
    "X_train, y_train = train['features'], train['labels']\n",
    "X_test, y_test = test['features'], test['labels']\n",
    "\n",
    "original_y_train = y_train\n",
    "setOfLabels = set(y_train)\n",
    "X_train_mean = np.mean(X_train)\n",
    "\n",
    "# Free up memory\n",
    "del train  \n",
    "del test"
   ]
  },
  {
   "cell_type": "code",
   "execution_count": 10,
   "metadata": {
    "collapsed": false
   },
   "outputs": [
    {
     "name": "stdout",
     "output_type": "stream",
     "text": [
      "Labels One-Hot Encoded\n"
     ]
    }
   ],
   "source": [
    "from sklearn.preprocessing import LabelBinarizer\n",
    "import numpy as np\n",
    "\n",
    "# Turn labels into numbers and apply One-Hot Encoding\n",
    "encoder = LabelBinarizer()\n",
    "encoder.fit(y_train)\n",
    "y_train = encoder.transform(y_train)\n",
    "y_test = encoder.transform(y_test)\n",
    "\n",
    "# Change to float32, so it can be multiplied against the features in TensorFlow, which are float32\n",
    "y_train = y_train.astype(np.float32)\n",
    "y_test = y_test.astype(np.float32)\n",
    "\n",
    "print('Labels One-Hot Encoded')"
   ]
  },
  {
   "cell_type": "code",
   "execution_count": 11,
   "metadata": {
    "collapsed": false
   },
   "outputs": [
    {
     "name": "stdout",
     "output_type": "stream",
     "text": [
      "Number of training examples = 39209\n",
      "Number of testing examples = 12630\n",
      "Image data shape = (32, 32, 3)\n",
      "Number of classes = 43\n"
     ]
    }
   ],
   "source": [
    "### To start off let's do a basic data summary.\n",
    "\n",
    "# TODO: number of training examples\n",
    "n_train = len(X_train)\n",
    "\n",
    "# TODO: number of testing examples\n",
    "n_test = len(X_test)\n",
    "\n",
    "# TODO: what's the shape of an image?\n",
    "image_shape = X_train[0].shape\n",
    "\n",
    "# TODO: how many classes are in the dataset\n",
    "n_classes = len(y_train[0])\n",
    "\n",
    "print(\"Number of training examples =\", n_train)\n",
    "print(\"Number of testing examples =\", n_test)\n",
    "print(\"Image data shape =\", image_shape)\n",
    "print(\"Number of classes =\", n_classes)\n"
   ]
  },
  {
   "cell_type": "code",
   "execution_count": 12,
   "metadata": {
    "collapsed": false
   },
   "outputs": [
    {
     "data": {
      "image/png": "[encoded data removed]",
      "text/plain": [
       "<matplotlib.figure.Figure at 0x7fb641d8bc18>"
      ]
     },
     "metadata": {},
     "output_type": "display_data"
    }
   ],
   "source": [
    "### Data exploration visualization goes here.\n",
    "### Feel free to use as many code cells as needed.\n",
    "import matplotlib.pyplot as plt\n",
    "\n",
    "labelDistribution = {}\n",
    "for label in setOfLabels:\n",
    "    for idx, val in enumerate(X_train):\n",
    "        if original_y_train[idx] == label:\n",
    "            if label in labelDistribution:\n",
    "                labelDistribution[label] += 1\n",
    "            else:\n",
    "                labelDistribution[label] = 1\n",
    "\n",
    "labelArray = []\n",
    "featureCountByLabelArray = []\n",
    "for key, value in labelDistribution.items():\n",
    "    labelArray.append(key)\n",
    "    featureCountByLabelArray.append(value)\n",
    "\n",
    "plt.plot(labelArray,featureCountByLabelArray,'ro')\n",
    "plt.ylabel('Number of features')\n",
    "plt.xlabel('labels')\n",
    "\n",
    "plt.show()"
   ]
  },
  {
   "cell_type": "markdown",
   "metadata": {},
   "source": [
    "### Implementation\n",
    "\n",
    "Use the code cell (or multiple code cells, if necessary) to implement the first step of your project. Once you have completed your implementation and are satisfied with the results, be sure to thoroughly answer the questions that follow."
   ]
  },
  {
   "cell_type": "code",
   "execution_count": 13,
   "metadata": {
    "collapsed": false
   },
   "outputs": [],
   "source": [
    "### Preprocess the data here.\n",
    "### Feel free to use as many code cells as needed.\n",
    "# Problem 1 - Implement Min-Max scaling for greyscale image data\n",
    "def normalize_greyscale(image_data):\n",
    "    \"\"\"\n",
    "    Normalize the image data with Min-Max scaling to a range of [0.1, 0.9]\n",
    "    :param image_data: The image data to be normalized\n",
    "    :return: Normalized image data\n",
    "    \"\"\"\n",
    "    output_array = []\n",
    "    a = 0.1\n",
    "    b = 0.9\n",
    "    x_max = 255\n",
    "    x_min = 0\n",
    "\n",
    "#     return (image_data - X_train_mean)/x_max\n",
    "#     return ((image_data - 128)/128)\n",
    "    return  a+(((image_data - x_min)*(b - a))/(x_max - x_min)) \n",
    "\n",
    "# print(X_train[0])\n",
    "# print(X_train[0][0])\n",
    "X_train = np.mean(X_train, axis=3)\n",
    "# print(X_train[0])\n",
    "# print(X_train[0][0])\n",
    "X_train = normalize_greyscale(X_train)\n",
    "X_test = np.mean(X_test, axis=3)\n",
    "X_test = normalize_greyscale(X_test)"
   ]
  },
  {
   "cell_type": "code",
   "execution_count": 14,
   "metadata": {
    "collapsed": false
   },
   "outputs": [],
   "source": [
    "fractionOfData = 0.05\n",
    "roundedXTrainNumber = round(n_train*fractionOfData)\n",
    "trainIdx = np.random.choice(X_train.shape[0], size=roundedXTrainNumber,replace=False)\n",
    "roundedXTestNumber = round(n_test*fractionOfData)\n",
    "testIdx = np.random.choice(X_test.shape[0], size=roundedXTestNumber,replace=False)\n",
    "\n",
    "X_train = X_train[trainIdx, :]\n",
    "y_train = y_train[trainIdx, :]\n",
    "X_test = X_test[testIdx, :]\n",
    "y_test = y_test[testIdx, :]"
   ]
  },
  {
   "cell_type": "code",
   "execution_count": 15,
   "metadata": {
    "collapsed": false
   },
   "outputs": [
    {
     "name": "stdout",
     "output_type": "stream",
     "text": [
      "1862\n",
      "[[ 0.2296732   0.23281046  0.23385621 ...,  0.21398693  0.19620915\n",
      "   0.18993464]\n",
      " [ 0.21712418  0.22026144  0.2296732  ...,  0.23490196  0.21084967\n",
      "   0.18679739]\n",
      " [ 0.21921569  0.21084967  0.21607843 ...,  0.25686275  0.24431373\n",
      "   0.1930719 ]\n",
      " ..., \n",
      " [ 0.22339869  0.2275817   0.23490196 ...,  0.25581699  0.2296732\n",
      "   0.22235294]\n",
      " [ 0.22130719  0.22862745  0.23281046 ...,  0.2579085   0.23385621\n",
      "   0.2254902 ]\n",
      " [ 0.22339869  0.23281046  0.23071895 ...,  0.25163399  0.23281046\n",
      "   0.22444444]]\n"
     ]
    }
   ],
   "source": [
    "from sklearn.model_selection import train_test_split\n",
    "\n",
    "# Get randomized datasets for training and validation\n",
    "train_features, valid_features, train_labels, valid_labels = train_test_split(\n",
    "    X_train,\n",
    "    y_train,\n",
    "    test_size=0.05,\n",
    "    random_state=0)\n",
    "print(len(train_features))\n",
    "print(train_features[0])"
   ]
  },
  {
   "cell_type": "code",
   "execution_count": 18,
   "metadata": {
    "collapsed": false
   },
   "outputs": [],
   "source": [
    "import tensorflow as tf\n",
    "\n",
    "features_count = 32*32*3\n",
    "labels_count = 43\n",
    "\n",
    "#Set the features and labels tensors\n",
    "features = tf.placeholder(tf.float32)\n",
    "labels = tf.placeholder(tf.float32)\n",
    "\n",
    "# Problem 2 - Set the weights and biases tensors\n",
    "weights = tf.Variable(tf.truncated_normal((features_count, labels_count)))\n",
    "biases = tf.Variable(tf.zeros(labels_count))"
   ]
  },
  {
   "cell_type": "code",
   "execution_count": 19,
   "metadata": {
    "collapsed": true
   },
   "outputs": [],
   "source": [
    "# Feed dicts for training, validation, and test session#valid_feed_dict = {features: valid_features, labels: valid_labels}\n",
    "\n",
    "train_feed_dict = {features: train_features, labels: train_labels}\n",
    "valid_feed_dict = {features: valid_features, labels: valid_labels}\n",
    "\n",
    "# Linear Function WX + b\n",
    "logits = tf.matmul(features, weights) + biases\n",
    "\n",
    "prediction = tf.nn.softmax(logits)\n",
    "\n",
    "# Cross entropy\n",
    "\n",
    "cross_entropy = tf.reduce_mean(-tf.reduce_sum(\n",
    "        labels * tf.log(tf.clip_by_value(prediction,1e-10,1.0)), reduction_indices=[1]))\n",
    "\n",
    "# Training loss\n",
    "loss = tf.reduce_mean(cross_entropy)\n",
    "\n",
    "# Create an operation that initializes all variables\n",
    "init = tf.initialize_all_variables()"
   ]
  },
  {
   "cell_type": "code",
   "execution_count": 20,
   "metadata": {
    "collapsed": true
   },
   "outputs": [],
   "source": [
    "# Determine if the predictions are correct\n",
    "is_correct_prediction = tf.equal(tf.argmax(prediction, 1), tf.argmax(labels, 1))\n",
    "# Calculate the accuracy of the predictions\n",
    "accuracy = tf.reduce_mean(tf.cast(is_correct_prediction, tf.float32))"
   ]
  },
  {
   "cell_type": "code",
   "execution_count": 21,
   "metadata": {
    "collapsed": false
   },
   "outputs": [
    {
     "name": "stderr",
     "output_type": "stream",
     "text": [
      "\n",
      "Epoch  1/10:   0%|          | 0/1863 [00:00<?, ?batches/s]\u001b[A\n",
      "Epoch  1/10:   0%|          | 1/1863 [00:00<13:46,  2.25batches/s]\u001b[A\n",
      "Epoch  1/10:   3%|▎         | 54/1863 [00:00<09:23,  3.21batches/s]\u001b[A\n",
      "Epoch  1/10:   6%|▌         | 107/1863 [00:00<06:23,  4.57batches/s]\u001b[A\n",
      "Epoch  1/10:   9%|▊         | 161/1863 [00:00<04:21,  6.51batches/s]\u001b[A\n",
      "Epoch  1/10:  11%|█▏        | 213/1863 [00:00<02:58,  9.25batches/s]\u001b[A\n",
      "Epoch  1/10:  14%|█▍        | 265/1863 [00:00<02:01, 13.12batches/s]\u001b[A\n",
      "Epoch  1/10:  17%|█▋        | 316/1863 [00:01<01:23, 18.53batches/s]\u001b[A\n",
      "Epoch  1/10:  20%|█▉        | 369/1863 [00:01<00:57, 26.08batches/s]\u001b[A\n",
      "Epoch  1/10:  23%|██▎       | 421/1863 [00:01<00:39, 36.46batches/s]\u001b[A\n",
      "Epoch  1/10:  25%|██▌       | 474/1863 [00:01<00:27, 50.57batches/s]\u001b[A\n",
      "Epoch  1/10:  28%|██▊       | 526/1863 [00:01<00:19, 69.32batches/s]\u001b[A\n",
      "Epoch  1/10:  31%|███       | 578/1863 [00:01<00:13, 93.59batches/s]\u001b[A\n",
      "Epoch  1/10:  34%|███▍      | 630/1863 [00:01<00:09, 124.03batches/s]\u001b[A\n",
      "Epoch  1/10:  37%|███▋      | 682/1863 [00:01<00:07, 160.75batches/s]\u001b[A\n",
      "Epoch  1/10:  39%|███▉      | 734/1863 [00:01<00:05, 202.60batches/s]\u001b[A\n",
      "Epoch  1/10:  42%|████▏     | 786/1863 [00:01<00:04, 247.50batches/s]\u001b[A\n",
      "Epoch  1/10:  45%|████▍     | 838/1863 [00:02<00:03, 292.91batches/s]\u001b[A\n",
      "Epoch  1/10:  48%|████▊     | 890/1863 [00:02<00:02, 336.26batches/s]\u001b[A\n",
      "Epoch  1/10:  51%|█████     | 942/1863 [00:02<00:02, 375.97batches/s]\u001b[A\n",
      "Epoch  1/10:  53%|█████▎    | 994/1863 [00:02<00:02, 409.26batches/s]\u001b[A\n",
      "Epoch  1/10:  56%|█████▌    | 1046/1863 [00:02<00:03, 216.94batches/s]\u001b[A\n",
      "Epoch  1/10:  59%|█████▉    | 1098/1863 [00:02<00:02, 262.20batches/s]\u001b[A\n",
      "Epoch  1/10:  62%|██████▏   | 1150/1863 [00:03<00:02, 307.40batches/s]\u001b[A\n",
      "Epoch  1/10:  65%|██████▍   | 1202/1863 [00:03<00:01, 349.62batches/s]\u001b[A\n",
      "Epoch  1/10:  67%|██████▋   | 1254/1863 [00:03<00:01, 386.34batches/s]\u001b[A\n",
      "Epoch  1/10:  70%|███████   | 1306/1863 [00:03<00:01, 417.46batches/s]\u001b[A\n",
      "Epoch  1/10:  73%|███████▎  | 1358/1863 [00:03<00:01, 441.61batches/s]\u001b[A\n",
      "Epoch  1/10:  76%|███████▌  | 1409/1863 [00:03<00:00, 458.95batches/s]\u001b[A\n",
      "Epoch  1/10:  78%|███████▊  | 1460/1863 [00:03<00:00, 472.63batches/s]\u001b[A\n",
      "Epoch  1/10:  81%|████████  | 1511/1863 [00:03<00:00, 483.07batches/s]\u001b[A\n",
      "Epoch  1/10:  84%|████████▍ | 1562/1863 [00:03<00:00, 489.01batches/s]\u001b[A\n",
      "Epoch  1/10:  87%|████████▋ | 1613/1863 [00:03<00:00, 487.91batches/s]\u001b[A\n",
      "Epoch  1/10:  89%|████████▉ | 1664/1863 [00:04<00:00, 493.95batches/s]\u001b[A\n",
      "Epoch  1/10:  92%|█████████▏| 1715/1863 [00:04<00:00, 497.79batches/s]\u001b[A\n",
      "Epoch  1/10:  95%|█████████▍| 1767/1863 [00:04<00:00, 501.22batches/s]\u001b[A\n",
      "Epoch  1/10:  98%|█████████▊| 1818/1863 [00:04<00:00, 501.75batches/s]\u001b[A\n",
      "Epoch  1/10: 100%|██████████| 1863/1863 [00:04<00:00, 416.20batches/s]\u001b[A\n",
      "Epoch  2/10:   0%|          | 0/1863 [00:00<?, ?batches/s]\u001b[A"
     ]
    },
    {
     "name": "stdout",
     "output_type": "stream",
     "text": [
      "Validation accuracy at 0.2993370592594147 Training accuracy at 0.31695660948753357\n"
     ]
    },
    {
     "name": "stderr",
     "output_type": "stream",
     "text": [
      "\n",
      "Epoch  2/10:   0%|          | 1/1863 [00:00<12:43,  2.44batches/s]\u001b[A\n",
      "Epoch  2/10:   3%|▎         | 52/1863 [00:00<08:41,  3.48batches/s]\u001b[A\n",
      "Epoch  2/10:   6%|▌         | 103/1863 [00:00<05:55,  4.95batches/s]\u001b[A\n",
      "Epoch  2/10:   8%|▊         | 154/1863 [00:00<04:02,  7.04batches/s]\u001b[A\n",
      "Epoch  2/10:  11%|█         | 206/1863 [00:00<02:45, 10.00batches/s]\u001b[A\n",
      "Epoch  2/10:  14%|█▍        | 258/1863 [00:00<01:53, 14.17batches/s]\u001b[A\n",
      "Epoch  2/10:  17%|█▋        | 310/1863 [00:01<01:17, 20.01batches/s]\u001b[A\n",
      "Epoch  2/10:  19%|█▉        | 361/1863 [00:01<00:53, 28.11batches/s]\u001b[A\n",
      "Epoch  2/10:  22%|██▏       | 413/1863 [00:01<00:36, 39.23batches/s]\u001b[A\n",
      "Epoch  2/10:  25%|██▍       | 464/1863 [00:01<00:25, 54.25batches/s]\u001b[A\n",
      "Epoch  2/10:  28%|██▊       | 516/1863 [00:01<00:18, 74.13batches/s]\u001b[A\n",
      "Exception in thread Thread-4:\n",
      "Traceback (most recent call last):\n",
      "  File \"/home/ubuntu/anaconda3/lib/python3.5/threading.py\", line 914, in _bootstrap_inner\n",
      "    self.run()\n",
      "  File \"/home/ubuntu/anaconda3/lib/python3.5/site-packages/tqdm/_tqdm.py\", line 102, in run\n",
      "    for instance in self.tqdm_cls._instances:\n",
      "  File \"/home/ubuntu/anaconda3/lib/python3.5/_weakrefset.py\", line 60, in __iter__\n",
      "    for itemref in self.data:\n",
      "RuntimeError: Set changed size during iteration\n",
      "\n",
      "Epoch  2/10: 100%|██████████| 1863/1863 [00:04<00:00, 417.81batches/s]\n",
      "Epoch  3/10:   0%|          | 0/1863 [00:00<?, ?batches/s]"
     ]
    },
    {
     "name": "stdout",
     "output_type": "stream",
     "text": [
      "Validation accuracy at 0.5782763957977295 Training accuracy at 0.5927029848098755\n"
     ]
    },
    {
     "name": "stderr",
     "output_type": "stream",
     "text": [
      "Epoch  3/10: 100%|██████████| 1863/1863 [00:04<00:00, 412.74batches/s]\n",
      "Epoch  4/10:   0%|          | 0/1863 [00:00<?, ?batches/s]"
     ]
    },
    {
     "name": "stdout",
     "output_type": "stream",
     "text": [
      "Validation accuracy at 0.6976032853126526 Training accuracy at 0.7309654355049133\n"
     ]
    },
    {
     "name": "stderr",
     "output_type": "stream",
     "text": [
      "Epoch  4/10: 100%|██████████| 1863/1863 [00:04<00:00, 413.63batches/s]\n",
      "Epoch  5/10:   0%|          | 0/1863 [00:00<?, ?batches/s]"
     ]
    },
    {
     "name": "stdout",
     "output_type": "stream",
     "text": [
      "Validation accuracy at 0.7399286031723022 Training accuracy at 0.7651954293251038\n"
     ]
    },
    {
     "name": "stderr",
     "output_type": "stream",
     "text": [
      "Epoch  5/10: 100%|██████████| 1863/1863 [00:04<00:00, 413.35batches/s]\n",
      "Epoch  6/10:   0%|          | 0/1863 [00:00<?, ?batches/s]"
     ]
    },
    {
     "name": "stdout",
     "output_type": "stream",
     "text": [
      "Validation accuracy at 0.7582865953445435 Training accuracy at 0.7855455279350281\n"
     ]
    },
    {
     "name": "stderr",
     "output_type": "stream",
     "text": [
      "Epoch  6/10: 100%|██████████| 1863/1863 [00:04<00:00, 414.40batches/s]\n",
      "Epoch  7/10:   0%|          | 0/1863 [00:00<?, ?batches/s]"
     ]
    },
    {
     "name": "stdout",
     "output_type": "stream",
     "text": [
      "Validation accuracy at 0.752167284488678 Training accuracy at 0.7818406224250793\n"
     ]
    },
    {
     "name": "stderr",
     "output_type": "stream",
     "text": [
      "Epoch  7/10: 100%|██████████| 1863/1863 [00:04<00:00, 509.92batches/s]\n",
      "Epoch  8/10:   0%|          | 0/1863 [00:00<?, ?batches/s]"
     ]
    },
    {
     "name": "stdout",
     "output_type": "stream",
     "text": [
      "Validation accuracy at 0.7735849022865295 Training accuracy at 0.8070500493049622\n"
     ]
    },
    {
     "name": "stderr",
     "output_type": "stream",
     "text": [
      "Epoch  8/10: 100%|██████████| 1863/1863 [00:04<00:00, 410.28batches/s]\n",
      "Epoch  9/10:   0%|          | 0/1863 [00:00<?, ?batches/s]"
     ]
    },
    {
     "name": "stdout",
     "output_type": "stream",
     "text": [
      "Validation accuracy at 0.781234085559845 Training accuracy at 0.8109428882598877\n"
     ]
    },
    {
     "name": "stderr",
     "output_type": "stream",
     "text": [
      "Epoch  9/10: 100%|██████████| 1863/1863 [00:04<00:00, 415.57batches/s]\n",
      "Epoch 10/10:   0%|          | 0/1863 [00:00<?, ?batches/s]"
     ]
    },
    {
     "name": "stdout",
     "output_type": "stream",
     "text": [
      "Validation accuracy at 0.8266190886497498 Training accuracy at 0.8531196117401123\n"
     ]
    },
    {
     "name": "stderr",
     "output_type": "stream",
     "text": [
      "Epoch 10/10: 100%|██████████| 1863/1863 [00:04<00:00, 411.86batches/s]\n"
     ]
    },
    {
     "name": "stdout",
     "output_type": "stream",
     "text": [
      "Validation accuracy at 0.8414074182510376 Training accuracy at 0.8693621158599854\n"
     ]
    },
    {
     "data": {
      "image/png": "[encoded data removed]",
      "text/plain": [
       "<matplotlib.figure.Figure at 0x7f4287b35cc0>"
      ]
     },
     "metadata": {},
     "output_type": "display_data"
    }
   ],
   "source": [
    "from tqdm import tqdm\n",
    "\n",
    "import math\n",
    "epochs = 10\n",
    "\n",
    "batch_size = 20\n",
    "learning_rate = .24\n",
    "global batch_start\n",
    "# Gradient Descent\n",
    "optimizer = tf.train.GradientDescentOptimizer(learning_rate).minimize(loss)    \n",
    "\n",
    "# The accuracy measured against the validation set\n",
    "validation_accuracy = 0.0\n",
    "\n",
    "# Measurements use for graphing loss and accuracy\n",
    "log_batch_step = 1000\n",
    "batches = []\n",
    "loss_batch = []\n",
    "train_acc_batch = []\n",
    "valid_acc_batch = []\n",
    "\n",
    "with tf.Session() as session:\n",
    "    session.run(init)\n",
    "    batch_count = int(math.ceil(len(train_features)/batch_size))\n",
    "\n",
    "    for epoch_i in range(epochs):\n",
    "        \n",
    "        # Progress bar\n",
    "        batches_pbar = tqdm(range(batch_count), desc='Epoch {:>2}/{}'.format(epoch_i+1, epochs), unit='batches')\n",
    "        \n",
    "        # The training cycle\n",
    "        for batch_i in batches_pbar:\n",
    "            # Get a batch of training features and labels\n",
    "            batch_start = batch_i*batch_size\n",
    "            batch_features = train_features[batch_start:batch_start + batch_size]\n",
    "#             print(batch_features.shape)\n",
    "#             print(batch_features[0])\n",
    "            batch_labels = train_labels[batch_start:batch_start + batch_size]\n",
    "\n",
    "            # Run optimizer and get loss\n",
    "            _, l = session.run(\n",
    "                [optimizer, loss],\n",
    "                feed_dict={features: batch_features, labels: batch_labels})\n",
    "\n",
    "            # Log every 50 batches\n",
    "            if not batch_i % log_batch_step:\n",
    "                # Calculate Training and Validation accuracy\n",
    "                training_accuracy = session.run(accuracy, feed_dict=train_feed_dict)\n",
    "                validation_accuracy = session.run(accuracy, feed_dict=valid_feed_dict)\n",
    "\n",
    "                # Log batches\n",
    "                previous_batch = batches[-1] if batches else 0\n",
    "                batches.append(log_batch_step + previous_batch)\n",
    "                loss_batch.append(l)\n",
    "                train_acc_batch.append(training_accuracy)\n",
    "                valid_acc_batch.append(validation_accuracy)\n",
    "        print('Validation accuracy at {}'.format(validation_accuracy),'Training accuracy at {}'.format(training_accuracy) )\n",
    "        # Check accuracy against Validation data\n",
    "        validation_accuracy = session.run(accuracy, feed_dict=valid_feed_dict)\n",
    "\n",
    "loss_plot = plt.subplot(211)\n",
    "loss_plot.set_title('Loss')\n",
    "loss_plot.plot(batches, loss_batch, 'g')\n",
    "loss_plot.set_xlim([batches[0], batches[-1]])\n",
    "acc_plot = plt.subplot(212)\n",
    "acc_plot.set_title('Accuracy')\n",
    "acc_plot.plot(batches, train_acc_batch, 'r', label='Training Accuracy')\n",
    "acc_plot.plot(batches, valid_acc_batch, 'b', label='Validation Accuracy')\n",
    "acc_plot.set_ylim([0, 1.0])\n",
    "acc_plot.set_xlim([batches[0], batches[-1]])\n",
    "acc_plot.legend(loc=4)\n",
    "plt.tight_layout()\n",
    "plt.show()\n"
   ]
  },
  {
   "cell_type": "markdown",
   "metadata": {},
   "source": [
    "----\n",
    "\n",
    "## Step 2: Design and Test a Model Architecture\n",
    "\n",
    "Design and implement a deep learning model that learns to recognize traffic signs. Train and test your model on the [German Traffic Sign Dataset](http://benchmark.ini.rub.de/?section=gtsrb&subsection=dataset).\n",
    "\n",
    "There are various aspects to consider when thinking about this problem:\n",
    "\n",
    "- Your model can be derived from a deep feedforward net or a deep convolutional network.\n",
    "- Play around preprocessing techniques (normalization, rgb to grayscale, etc)\n",
    "- Number of examples per label (some have more than others).\n",
    "- Generate fake data.\n",
    "\n",
    "Here is an example of a [published baseline model on this problem](http://yann.lecun.com/exdb/publis/pdf/sermanet-ijcnn-11.pdf). It's not required to be familiar with the approach used in the paper but, it's good practice to try to read papers like these."
   ]
  },
  {
   "cell_type": "markdown",
   "metadata": {},
   "source": [
    "### Question 1 \n",
    "\n",
    "_Describe the techniques used to preprocess the data._"
   ]
  },
  {
   "cell_type": "markdown",
   "metadata": {},
   "source": [
    "**Answer:**"
   ]
  },
  {
   "cell_type": "code",
   "execution_count": 2,
   "metadata": {
    "collapsed": true
   },
   "outputs": [],
   "source": [
    "### Generate data additional (if you want to!)\n",
    "### and split the data into training/validation/testing sets here.\n",
    "### Feel free to use as many code cells as needed."
   ]
  },
  {
   "cell_type": "markdown",
   "metadata": {},
   "source": [
    "### Question 2\n",
    "\n",
    "_Describe how you set up the training, validation and testing data for your model. If you generated additional data, why?_"
   ]
  },
  {
   "cell_type": "markdown",
   "metadata": {},
   "source": [
    "**Answer:**"
   ]
  },
  {
   "cell_type": "code",
   "execution_count": 6,
   "metadata": {
    "collapsed": true
   },
   "outputs": [],
   "source": [
    "### Define your architecture here.\n",
    "### Feel free to use as many code cells as needed."
   ]
  },
  {
   "cell_type": "markdown",
   "metadata": {},
   "source": [
    "### Question 3\n",
    "\n",
    "_What does your final architecture look like? (Type of model, layers, sizes, connectivity, etc.)  For reference on how to build a deep neural network using TensorFlow, see [Deep Neural Network in TensorFlow\n",
    "](https://classroom.udacity.com/nanodegrees/nd013/parts/fbf77062-5703-404e-b60c-95b78b2f3f9e/modules/6df7ae49-c61c-4bb2-a23e-6527e69209ec/lessons/b516a270-8600-4f93-a0a3-20dfeabe5da6/concepts/83a3a2a2-a9bd-4b7b-95b0-eb924ab14432) from the classroom._\n"
   ]
  },
  {
   "cell_type": "markdown",
   "metadata": {},
   "source": [
    "**Answer:**"
   ]
  },
  {
   "cell_type": "code",
   "execution_count": 16,
   "metadata": {
    "collapsed": false
   },
   "outputs": [
    {
     "name": "stdout",
     "output_type": "stream",
     "text": [
      "Tensor(\"strided_slice:0\", shape=(32, 32, 1), dtype=float32)\n",
      "[[ 0.31542484  0.57686275  0.37503268 ...,  0.56954248  0.81529412\n",
      "   0.81424837]\n",
      " [ 0.28823529  0.2903268   0.54862745 ...,  0.32065359  0.65843137\n",
      "   0.77346405]\n",
      " [ 0.3269281   0.28196078  0.40640523 ...,  0.28405229  0.50366013\n",
      "   0.66052288]\n",
      " ..., \n",
      " [ 0.23176471  0.20562092  0.28196078 ...,  0.28614379  0.47647059\n",
      "   0.2945098 ]\n",
      " [ 0.26732026  0.21712418  0.23803922 ...,  0.35620915  0.30810458\n",
      "   0.4179085 ]\n",
      " [ 0.23803922  0.21921569  0.24117647 ...,  0.30078431  0.28509804\n",
      "   0.26313725]] [ 0.  0.  0.  0.  0.  0.  0.  0.  0.  0.  0.  0.  0.  0.  1.  0.  0.  0.\n",
      "  0.  0.  0.  0.  0.  0.  0.  0.  0.  0.  0.  0.  0.  0.  0.  0.  0.  0.\n",
      "  0.  0.  0.  0.  0.  0.  0.]\n",
      "[[ 0.15856209  0.17843137  0.22130719 ...,  0.1972549   0.19934641\n",
      "   0.20562092]\n",
      " [ 0.16065359  0.17633987  0.22235294 ...,  0.20666667  0.20143791\n",
      "   0.20248366]\n",
      " [ 0.16065359  0.17529412  0.20980392 ...,  0.20457516  0.19411765\n",
      "   0.19620915]\n",
      " ..., \n",
      " [ 0.18888889  0.18052288  0.17320261 ...,  0.18261438  0.17529412\n",
      "   0.17947712]\n",
      " [ 0.19098039  0.18366013  0.17738562 ...,  0.17947712  0.17215686\n",
      "   0.17529412]\n",
      " [ 0.19098039  0.19620915  0.18784314 ...,  0.17947712  0.17424837\n",
      "   0.17006536]] [ 0.  0.  0.  0.  0.  0.  0.  0.  0.  0.  0.  0.  0.  0.  0.  0.  0.  0.\n",
      "  0.  0.  0.  0.  0.  0.  0.  0.  1.  0.  0.  0.  0.  0.  0.  0.  0.  0.\n",
      "  0.  0.  0.  0.  0.  0.  0.]\n",
      "[[ 0.76300654  0.76509804  0.7724183  ...,  0.85294118  0.85084967\n",
      "   0.84457516]\n",
      " [ 0.81424837  0.81006536  0.8069281  ...,  0.84771242  0.84562092\n",
      "   0.85084967]\n",
      " [ 0.81111111  0.81320261  0.81006536 ...,  0.84248366  0.84457516\n",
      "   0.84562092]\n",
      " ..., \n",
      " [ 0.27882353  0.27882353  0.27777778 ...,  0.2945098   0.26941176\n",
      "   0.26522876]\n",
      " [ 0.27673203  0.27254902  0.26627451 ...,  0.30601307  0.26836601\n",
      "   0.27045752]\n",
      " [ 0.26418301  0.26418301  0.26313725 ...,  0.31228758  0.26418301\n",
      "   0.26418301]] [ 0.  0.  0.  0.  0.  0.  0.  0.  0.  0.  0.  0.  0.  0.  0.  0.  0.  0.\n",
      "  0.  0.  0.  0.  1.  0.  0.  0.  0.  0.  0.  0.  0.  0.  0.  0.  0.  0.\n",
      "  0.  0.  0.  0.  0.  0.  0.]\n",
      "[[ 0.33006536  0.33215686  0.31856209 ...,  0.42836601  0.31751634\n",
      "   0.38653595]\n",
      " [ 0.41895425  0.28300654  0.31124183 ...,  0.31437908  0.30810458\n",
      "   0.34784314]\n",
      " [ 0.37398693  0.31228758  0.43359477 ...,  0.32797386  0.29764706\n",
      "   0.36039216]\n",
      " ..., \n",
      " [ 0.30078431  0.34575163  0.52143791 ...,  0.9         0.9         0.9       ]\n",
      " [ 0.3248366   0.31856209  0.31960784 ...,  0.9         0.9         0.9       ]\n",
      " [ 0.37921569  0.40640523  0.46705882 ...,  0.9         0.9         0.9       ]] [ 0.  0.  0.  0.  0.  0.  0.  0.  0.  1.  0.  0.  0.  0.  0.  0.  0.  0.\n",
      "  0.  0.  0.  0.  0.  0.  0.  0.  0.  0.  0.  0.  0.  0.  0.  0.  0.  0.\n",
      "  0.  0.  0.  0.  0.  0.  0.]\n",
      "[[ 0.18156863  0.18784314  0.18052288 ...,  0.19620915  0.20248366\n",
      "   0.21084967]\n",
      " [ 0.18261438  0.18888889  0.18366013 ...,  0.20562092  0.20666667\n",
      "   0.2254902 ]\n",
      " [ 0.19202614  0.20039216  0.1951634  ...,  0.22130719  0.22444444\n",
      "   0.24431373]\n",
      " ..., \n",
      " [ 0.17947712  0.17738562  0.17843137 ...,  0.18993464  0.18366013\n",
      "   0.17843137]\n",
      " [ 0.18156863  0.17947712  0.17738562 ...,  0.19411765  0.18993464\n",
      "   0.18156863]\n",
      " [ 0.18888889  0.17738562  0.17633987 ...,  0.19411765  0.19620915\n",
      "   0.18470588]] [ 0.  0.  1.  0.  0.  0.  0.  0.  0.  0.  0.  0.  0.  0.  0.  0.  0.  0.\n",
      "  0.  0.  0.  0.  0.  0.  0.  0.  0.  0.  0.  0.  0.  0.  0.  0.  0.  0.\n",
      "  0.  0.  0.  0.  0.  0.  0.]\n",
      "[[ 0.23071895  0.2254902   0.22444444 ...,  0.19934641  0.20039216\n",
      "   0.19830065]\n",
      " [ 0.20352941  0.19411765  0.19098039 ...,  0.21084967  0.21084967\n",
      "   0.21189542]\n",
      " [ 0.17843137  0.18470588  0.18888889 ...,  0.24117647  0.24431373\n",
      "   0.24535948]\n",
      " ..., \n",
      " [ 0.20771242  0.21189542  0.22339869 ...,  0.51620915  0.52143791\n",
      "   0.55803922]\n",
      " [ 0.21084967  0.21294118  0.20875817 ...,  0.51620915  0.52143791\n",
      "   0.51934641]\n",
      " [ 0.20875817  0.20352941  0.26732026 ...,  0.72640523  0.75359477\n",
      "   0.76823529]] [ 0.  0.  0.  0.  0.  0.  0.  1.  0.  0.  0.  0.  0.  0.  0.  0.  0.  0.\n",
      "  0.  0.  0.  0.  0.  0.  0.  0.  0.  0.  0.  0.  0.  0.  0.  0.  0.  0.\n",
      "  0.  0.  0.  0.  0.  0.  0.]\n",
      "[[ 0.26732026  0.26522876  0.26627451 ...,  0.72535948  0.72222222\n",
      "   0.46601307]\n",
      " [ 0.28300654  0.25895425  0.24954248 ...,  0.41372549  0.39908497\n",
      "   0.35830065]\n",
      " [ 0.27882353  0.28823529  0.27045752 ...,  0.25895425  0.27359477\n",
      "   0.23281046]\n",
      " ..., \n",
      " [ 0.26836601  0.27986928  0.31019608 ...,  0.17215686  0.17111111\n",
      "   0.16901961]\n",
      " [ 0.27882353  0.27254902  0.29869281 ...,  0.17215686  0.17215686\n",
      "   0.16797386]\n",
      " [ 0.25895425  0.25686275  0.27045752 ...,  0.16901961  0.16588235\n",
      "   0.16379085]] [ 0.  0.  0.  0.  0.  0.  0.  0.  0.  0.  0.  0.  0.  0.  0.  0.  0.  0.\n",
      "  0.  1.  0.  0.  0.  0.  0.  0.  0.  0.  0.  0.  0.  0.  0.  0.  0.  0.\n",
      "  0.  0.  0.  0.  0.  0.  0.]\n",
      "[[ 0.72954248  0.73267974  0.73581699 ...,  0.74941176  0.75254902\n",
      "   0.75464052]\n",
      " [ 0.73267974  0.73686275  0.73058824 ...,  0.74        0.74522876\n",
      "   0.75045752]\n",
      " [ 0.72326797  0.73267974  0.72745098 ...,  0.73895425  0.74313725\n",
      "   0.74522876]\n",
      " ..., \n",
      " [ 0.65320261  0.64065359  0.64588235 ...,  0.66052288  0.66679739\n",
      "   0.66366013]\n",
      " [ 0.65843137  0.6448366   0.63856209 ...,  0.65947712  0.66366013\n",
      "   0.66156863]\n",
      " [ 0.65320261  0.64169935  0.63333333 ...,  0.65633987  0.65947712\n",
      "   0.66261438]] [ 0.  0.  0.  0.  0.  1.  0.  0.  0.  0.  0.  0.  0.  0.  0.  0.  0.  0.\n",
      "  0.  0.  0.  0.  0.  0.  0.  0.  0.  0.  0.  0.  0.  0.  0.  0.  0.  0.\n",
      "  0.  0.  0.  0.  0.  0.  0.]\n",
      "[[ 0.4179085   0.55385621  0.42522876 ...,  0.31751634  0.24640523\n",
      "   0.24326797]\n",
      " [ 0.40640523  0.41163399  0.45764706 ...,  0.41895425  0.35098039\n",
      "   0.28509804]\n",
      " [ 0.40849673  0.31542484  0.39281046 ...,  0.31856209  0.30601307\n",
      "   0.32169935]\n",
      " ..., \n",
      " [ 0.2620915   0.23594771  0.27359477 ...,  0.44614379  0.26732026\n",
      "   0.21294118]\n",
      " [ 0.23594771  0.21607843  0.2903268  ...,  0.44405229  0.24640523\n",
      "   0.20562092]\n",
      " [ 0.22339869  0.20771242  0.25895425 ...,  0.36143791  0.23908497\n",
      "   0.2579085 ]] [ 0.  0.  1.  0.  0.  0.  0.  0.  0.  0.  0.  0.  0.  0.  0.  0.  0.  0.\n",
      "  0.  0.  0.  0.  0.  0.  0.  0.  0.  0.  0.  0.  0.  0.  0.  0.  0.  0.\n",
      "  0.  0.  0.  0.  0.  0.  0.]\n",
      "[[ 0.9         0.9         0.9        ...,  0.89686275  0.89372549\n",
      "   0.88013072]\n",
      " [ 0.9         0.9         0.9        ...,  0.9         0.89895425\n",
      "   0.88640523]\n",
      " [ 0.9         0.9         0.9        ...,  0.89895425  0.87490196\n",
      "   0.79751634]\n",
      " ..., \n",
      " [ 0.26836601  0.26941176  0.27254902 ...,  0.30915033  0.31647059\n",
      "   0.31542484]\n",
      " [ 0.26836601  0.27150327  0.27254902 ...,  0.34888889  0.71803922\n",
      "   0.61660131]\n",
      " [ 0.27150327  0.27150327  0.27359477 ...,  0.39281046  0.7054902\n",
      "   0.87908497]] [ 0.  0.  0.  0.  0.  0.  0.  0.  0.  0.  0.  0.  0.  0.  0.  0.  0.  0.\n",
      "  0.  0.  0.  0.  0.  0.  0.  0.  0.  0.  0.  0.  0.  0.  0.  0.  0.  1.\n",
      "  0.  0.  0.  0.  0.  0.  0.]\n",
      "[[ 0.33215686  0.34052288  0.33215686 ...,  0.23699346  0.17320261\n",
      "   0.18156863]\n",
      " [ 0.29346405  0.32379085  0.3530719  ...,  0.19098039  0.24431373\n",
      "   0.28196078]\n",
      " [ 0.37712418  0.3854902   0.37712418 ...,  0.28300654  0.30915033\n",
      "   0.27045752]\n",
      " ..., \n",
      " [ 0.17424837  0.17006536  0.16169935 ...,  0.18366013  0.18679739\n",
      "   0.1930719 ]\n",
      " [ 0.17215686  0.16901961  0.1627451  ...,  0.18470588  0.18784314\n",
      "   0.18993464]\n",
      " [ 0.17947712  0.17529412  0.17215686 ...,  0.17633987  0.17947712\n",
      "   0.17633987]] [ 0.  0.  0.  0.  0.  0.  0.  0.  0.  0.  1.  0.  0.  0.  0.  0.  0.  0.\n",
      "  0.  0.  0.  0.  0.  0.  0.  0.  0.  0.  0.  0.  0.  0.  0.  0.  0.  0.\n",
      "  0.  0.  0.  0.  0.  0.  0.]\n",
      "[[ 0.21607843  0.19620915  0.17843137 ...,  0.33006536  0.30078431\n",
      "   0.39281046]\n",
      " [ 0.18366013  0.17424837  0.16379085 ...,  0.29973856  0.27568627\n",
      "   0.30078431]\n",
      " [ 0.19830065  0.22235294  0.18784314 ...,  0.42627451  0.26522876\n",
      "   0.21607843]\n",
      " ..., \n",
      " [ 0.22862745  0.28405229  0.23176471 ...,  0.17006536  0.17633987\n",
      "   0.18784314]\n",
      " [ 0.24745098  0.28300654  0.33006536 ...,  0.19620915  0.1951634\n",
      "   0.19830065]\n",
      " [ 0.29973856  0.26        0.33633987 ...,  0.1930719   0.19934641\n",
      "   0.21712418]] [ 0.  0.  0.  0.  0.  0.  0.  0.  0.  0.  0.  0.  1.  0.  0.  0.  0.  0.\n",
      "  0.  0.  0.  0.  0.  0.  0.  0.  0.  0.  0.  0.  0.  0.  0.  0.  0.  0.\n",
      "  0.  0.  0.  0.  0.  0.  0.]\n",
      "[[ 0.15751634  0.16588235  0.17006536 ...,  0.18679739  0.1951634\n",
      "   0.20248366]\n",
      " [ 0.16901961  0.16901961  0.1669281  ...,  0.20143791  0.20352941\n",
      "   0.20039216]\n",
      " [ 0.15856209  0.16797386  0.1648366  ...,  0.21084967  0.20666667\n",
      "   0.20248366]\n",
      " ..., \n",
      " [ 0.18575163  0.15647059  0.15647059 ...,  0.22235294  0.24431373\n",
      "   0.22130719]\n",
      " [ 0.16379085  0.15647059  0.15542484 ...,  0.23385621  0.24640523\n",
      "   0.21921569]\n",
      " [ 0.16169935  0.17215686  0.15437908 ...,  0.24640523  0.24640523\n",
      "   0.22339869]] [ 0.  0.  0.  0.  0.  0.  0.  0.  0.  0.  0.  0.  0.  0.  0.  0.  0.  0.\n",
      "  0.  0.  0.  0.  0.  0.  0.  0.  0.  0.  0.  0.  0.  0.  0.  0.  0.  0.\n",
      "  0.  0.  0.  1.  0.  0.  0.]\n",
      "[[ 0.18679739  0.1951634   0.21398693 ...,  0.23385621  0.23699346\n",
      "   0.19830065]\n",
      " [ 0.21294118  0.21294118  0.21398693 ...,  0.24431373  0.23281046\n",
      "   0.21294118]\n",
      " [ 0.23803922  0.2296732   0.21294118 ...,  0.21607843  0.21503268\n",
      "   0.22026144]\n",
      " ..., \n",
      " [ 0.21921569  0.22653595  0.24326797 ...,  0.22653595  0.23071895\n",
      "   0.20771242]\n",
      " [ 0.22339869  0.23385621  0.24326797 ...,  0.25163399  0.24849673\n",
      "   0.20771242]\n",
      " [ 0.23385621  0.2579085   0.24535948 ...,  0.25163399  0.26104575\n",
      "   0.21816993]] [ 0.  0.  1.  0.  0.  0.  0.  0.  0.  0.  0.  0.  0.  0.  0.  0.  0.  0.\n",
      "  0.  0.  0.  0.  0.  0.  0.  0.  0.  0.  0.  0.  0.  0.  0.  0.  0.  0.\n",
      "  0.  0.  0.  0.  0.  0.  0.]\n",
      "[[ 0.14496732  0.15124183  0.14915033 ...,  0.1627451   0.14705882\n",
      "   0.14392157]\n",
      " [ 0.14705882  0.15856209  0.1627451  ...,  0.15019608  0.14810458\n",
      "   0.14183007]\n",
      " [ 0.15019608  0.15333333  0.16379085 ...,  0.15228758  0.14810458\n",
      "   0.14183007]\n",
      " ..., \n",
      " [ 0.14287582  0.14496732  0.14601307 ...,  0.14392157  0.13869281\n",
      "   0.13973856]\n",
      " [ 0.14392157  0.14705882  0.14496732 ...,  0.14705882  0.14287582\n",
      "   0.13660131]\n",
      " [ 0.14287582  0.14705882  0.14392157 ...,  0.14496732  0.14496732\n",
      "   0.14078431]] [ 0.  0.  0.  0.  0.  0.  1.  0.  0.  0.  0.  0.  0.  0.  0.  0.  0.  0.\n",
      "  0.  0.  0.  0.  0.  0.  0.  0.  0.  0.  0.  0.  0.  0.  0.  0.  0.  0.\n",
      "  0.  0.  0.  0.  0.  0.  0.]\n",
      "[[ 0.17111111  0.17529412  0.17738562 ...,  0.17111111  0.17111111\n",
      "   0.16797386]\n",
      " [ 0.17633987  0.17633987  0.17843137 ...,  0.17006536  0.1669281\n",
      "   0.1669281 ]\n",
      " [ 0.17006536  0.17215686  0.17215686 ...,  0.17006536  0.17006536\n",
      "   0.16797386]\n",
      " ..., \n",
      " [ 0.16797386  0.1648366   0.1669281  ...,  0.16797386  0.16065359\n",
      "   0.14915033]\n",
      " [ 0.16379085  0.16379085  0.16169935 ...,  0.15960784  0.16169935\n",
      "   0.16065359]\n",
      " [ 0.16901961  0.1627451   0.16588235 ...,  0.15333333  0.15437908\n",
      "   0.15228758]] [ 0.  0.  0.  0.  0.  0.  0.  0.  0.  0.  1.  0.  0.  0.  0.  0.  0.  0.\n",
      "  0.  0.  0.  0.  0.  0.  0.  0.  0.  0.  0.  0.  0.  0.  0.  0.  0.  0.\n",
      "  0.  0.  0.  0.  0.  0.  0.]\n"
     ]
    },
    {
     "ename": "IndexError",
     "evalue": "index 0 is out of bounds for axis 0 with size 0",
     "output_type": "error",
     "traceback": [
      "\u001b[0;31m---------------------------------------------------------------------------\u001b[0m",
      "\u001b[0;31mIndexError\u001b[0m                                Traceback (most recent call last)",
      "\u001b[0;32m<ipython-input-16-8b91bad73564>\u001b[0m in \u001b[0;36m<module>\u001b[0;34m()\u001b[0m\n\u001b[1;32m    176\u001b[0m             \u001b[0mbatch_x\u001b[0m\u001b[0;34m,\u001b[0m \u001b[0mbatch_y\u001b[0m \u001b[0;34m=\u001b[0m \u001b[0mnext_batch\u001b[0m\u001b[0;34m(\u001b[0m\u001b[0mX_train\u001b[0m\u001b[0;34m,\u001b[0m \u001b[0my_train\u001b[0m\u001b[0;34m,\u001b[0m\u001b[0mbatch_index\u001b[0m\u001b[0;34m,\u001b[0m\u001b[0mbatch_size\u001b[0m\u001b[0;34m)\u001b[0m\u001b[0;34m\u001b[0m\u001b[0m\n\u001b[1;32m    177\u001b[0m             \u001b[0mbatch_index\u001b[0m \u001b[0;34m+=\u001b[0m  \u001b[0mbatch_size\u001b[0m\u001b[0;34m\u001b[0m\u001b[0m\n\u001b[0;32m--> 178\u001b[0;31m             \u001b[0mprint\u001b[0m\u001b[0;34m(\u001b[0m\u001b[0mbatch_x\u001b[0m\u001b[0;34m[\u001b[0m\u001b[0;36m0\u001b[0m\u001b[0;34m]\u001b[0m\u001b[0;34m,\u001b[0m \u001b[0mbatch_y\u001b[0m\u001b[0;34m[\u001b[0m\u001b[0;36m0\u001b[0m\u001b[0;34m]\u001b[0m\u001b[0;34m)\u001b[0m\u001b[0;34m\u001b[0m\u001b[0m\n\u001b[0m\u001b[1;32m    179\u001b[0m             \u001b[0;31m# Run optimization op (backprop) and cost op (to get loss value)\u001b[0m\u001b[0;34m\u001b[0m\u001b[0;34m\u001b[0m\u001b[0m\n\u001b[1;32m    180\u001b[0m             \u001b[0mloss\u001b[0m \u001b[0;34m=\u001b[0m \u001b[0msess\u001b[0m\u001b[0;34m.\u001b[0m\u001b[0mrun\u001b[0m\u001b[0;34m(\u001b[0m\u001b[0mtrain_op\u001b[0m\u001b[0;34m,\u001b[0m \u001b[0mfeed_dict\u001b[0m\u001b[0;34m=\u001b[0m\u001b[0;34m{\u001b[0m\u001b[0mx\u001b[0m\u001b[0;34m:\u001b[0m \u001b[0mbatch_x\u001b[0m\u001b[0;34m,\u001b[0m \u001b[0my\u001b[0m\u001b[0;34m:\u001b[0m \u001b[0mbatch_y\u001b[0m\u001b[0;34m}\u001b[0m\u001b[0;34m)\u001b[0m\u001b[0;34m\u001b[0m\u001b[0m\n",
      "\u001b[0;31mIndexError\u001b[0m: index 0 is out of bounds for axis 0 with size 0"
     ]
    }
   ],
   "source": [
    "### Train your model here.\n",
    "### Feel free to use as many code cells as needed.\n",
    "import tensorflow as tf\n",
    "import time\n",
    "\n",
    "# Parameters\n",
    "learning_rate = 0.001\n",
    "batch_size = 128 #43*30\n",
    "training_epochs = 5 #5\n",
    "\n",
    "n_input = 32*32  # MNIST data input (Shape: 28*28)\n",
    "n_classes = 43  # MNIST total classes (0-9 digits)\n",
    "dropout = 0.75 # Dropout, probability to keep units\n",
    "\n",
    "layer_width = {\n",
    "    'layer_1': 32,\n",
    "    'layer_2': 64,\n",
    "    'layer_3': 128,\n",
    "    'fully_connected': 512\n",
    "}\n",
    "\n",
    "# Store layers weight & bias\n",
    "weights = {\n",
    "    'layer_1': tf.Variable(tf.truncated_normal(\n",
    "        [5, 5, 1, layer_width['layer_1']],stddev=0.05)),\n",
    "    'layer_2': tf.Variable(tf.truncated_normal(\n",
    "        [5, 5, layer_width['layer_1'], layer_width['layer_2']],stddev=0.05)),\n",
    "    'layer_3': tf.Variable(tf.truncated_normal(\n",
    "        [5, 5, layer_width['layer_2'], layer_width['layer_3']],stddev=0.05)),\n",
    "    'fully_connected': tf.Variable(tf.truncated_normal(\n",
    "        [2048, layer_width['fully_connected']],stddev=0.05)),\n",
    "    'out': tf.Variable(tf.truncated_normal(\n",
    "        [layer_width['fully_connected'], n_classes],stddev=0.05))\n",
    "}\n",
    "# biases = {\n",
    "#     'layer_1': tf.Variable(tf.zeros(layer_width['layer_1'])),\n",
    "#     'layer_2': tf.Variable(tf.zeros(layer_width['layer_2'])),\n",
    "#     'layer_3': tf.Variable(tf.zeros(layer_width['layer_3'])),\n",
    "#     'fully_connected': tf.Variable(tf.zeros(layer_width['fully_connected'])),\n",
    "#     'out': tf.Variable(tf.zeros(n_classes))\n",
    "# }\n",
    "biases = {\n",
    "    'layer_1': tf.Variable(tf.truncated_normal(\n",
    "            shape=[layer_width['layer_1']],stddev=0.05)),\n",
    "    'layer_2': tf.Variable(tf.truncated_normal(\n",
    "            shape=[layer_width['layer_2']],stddev=0.05)),\n",
    "    'layer_3': tf.Variable(tf.truncated_normal(\n",
    "            shape=[layer_width['layer_3']],stddev=0.05)),\n",
    "    'fully_connected': tf.Variable(tf.truncated_normal(\n",
    "            shape=[layer_width['fully_connected']],stddev=0.05)),\n",
    "    'out': tf.Variable(tf.truncated_normal(\n",
    "            shape=[n_classes],stddev=0.05))\n",
    "}\n",
    "\n",
    "def conv2d(x, W, b, strides=1):\n",
    "    x = tf.nn.conv2d(x, W, strides=[1, strides, strides, 1], padding='SAME')\n",
    "    x = tf.nn.bias_add(x, b)\n",
    "    return tf.nn.relu(x)\n",
    "\n",
    "\n",
    "def maxpool2d(x, k=2):\n",
    "    return tf.nn.max_pool(\n",
    "        x,\n",
    "        ksize=[1, k, k, 1],\n",
    "        strides=[1, k, k, 1],\n",
    "        padding='SAME')\n",
    "\n",
    "# Create model\n",
    "def conv_net(x, weights, biases):\n",
    "#     x= tf.image.rgb_to_grayscale(x)\n",
    "#     x = tf.reshape(x, shape=[-1, 32, 32, 3])\n",
    "\n",
    "    # Layer 1\n",
    "    conv1 = conv2d(x, weights['layer_1'], biases['layer_1'])\n",
    "    conv1 = maxpool2d(conv1)\n",
    "\n",
    "    # Layer 2\n",
    "    conv2 = conv2d(conv1, weights['layer_2'], biases['layer_2'])\n",
    "    conv2 = maxpool2d(conv2)\n",
    "\n",
    "    # Layer 3\n",
    "    conv3 = conv2d(conv2, weights['layer_3'], biases['layer_3'])\n",
    "    conv3 = maxpool2d(conv3)\n",
    "\n",
    "    # Fully connected layer\n",
    "    # Reshape conv3 output to fit fully connected layer input\n",
    "    fc1 = tf.reshape(\n",
    "        conv3,\n",
    "        [-1, weights['fully_connected'].get_shape().as_list()[0]])\n",
    "    fc1 = tf.add(\n",
    "        tf.matmul(fc1, weights['fully_connected']),\n",
    "        biases['fully_connected'])\n",
    "    fc1 = tf.nn.relu(fc1)\n",
    "    # Apply Dropout\n",
    "    fc1 = tf.nn.dropout(fc1, dropout)\n",
    "\n",
    "    # Output Layer - class prediction\n",
    "    out = tf.add(tf.matmul(fc1, weights['out']), biases['out'])\n",
    "    return out\n",
    "\n",
    "# convenience next_batch function\n",
    "def next_batch(x, y, batch_index, batch_size):\n",
    "    start = batch_index + 1\n",
    "    end = start + batch_size\n",
    "    return x[start:end, :], y[start:end, :]\n",
    "#     idx = np.arange(batch_size * batch_index,  min(len(x) - 1, batch_size * batch_index + batch_size))\n",
    "#     return x[idx, :], y[idx,]\n",
    "\n",
    "def LeNet(x):\n",
    "    # Reshape from 2D to 4D. This prepares the data for\n",
    "    # convolutional and pooling layers.\n",
    "    x = tf.reshape(x, (-1, 32, 32, 1))\n",
    "    # Squish values from 0-255 to 0-1.\n",
    "#     x /= 255.\n",
    "    # Resize to 32x32.\n",
    "#     x = tf.image.resize_images(x, (32, 32))\n",
    "\n",
    "    # TODO: Define the LeNet architecture.\n",
    "    # Return the result of the last fully connected layer.\n",
    "    return conv_net(x, weights, biases)\n",
    "\n",
    "\n",
    "# tf Graph input\n",
    "x = tf.placeholder(\"float\", [None, 32 ,32])\n",
    "y = tf.placeholder(\"float\", [None, n_classes])\n",
    "keep_prob = tf.placeholder(\"float\") #dropout (keep probability)\n",
    "\n",
    "# Create the LeNet.\n",
    "fc2 = LeNet(x)\n",
    "\n",
    "loss_op = tf.reduce_mean(tf.nn.softmax_cross_entropy_with_logits(fc2, y))\n",
    "opt = tf.train.AdamOptimizer()\n",
    "train_op = opt.minimize(loss_op)\n",
    "correct_prediction = tf.equal(tf.argmax(fc2, 1), tf.argmax(y, 1))\n",
    "accuracy_op = tf.reduce_mean(tf.cast(correct_prediction, tf.float32))\n",
    "\n",
    "\n",
    "def eval_data(dataset):\n",
    "    \"\"\"\n",
    "    Given a dataset as input returns the loss and accuracy.\n",
    "    \"\"\"\n",
    "    steps_per_epoch = dataset.num_examples // BATCH_SIZE\n",
    "#     num_examples = steps_per_epoch * BATCH_SIZE\n",
    "    total_acc, total_loss = 0, 0\n",
    "    for step in range(steps_per_epoch):\n",
    "        batch_x, batch_y = next_batch(X_train, y_train,batch_index,batch_size)\n",
    "        loss, acc = sess.run([loss_op, accuracy_op], feed_dict={x: batch_x, y: batch_y})\n",
    "        total_acc += (acc * batch_x.shape[0])\n",
    "        total_loss += (loss * batch_x.shape[0])\n",
    "        batch_index +=  batch_size\n",
    "    return total_loss/steps_per_epoch, total_acc/steps_per_epoch\n",
    "\n",
    "with tf.Session() as sess:\n",
    "    sess.run(tf.initialize_all_variables())\n",
    "#     steps_per_epoch = mnist.train.num_examples // BATCH_SIZE\n",
    "#     num_examples = steps_per_epoch * BATCH_SIZE\n",
    "\n",
    "#     # Train model\n",
    "#     for i in range(EPOCHS):\n",
    "#         for step in range(steps_per_epoch):\n",
    "#             batch_x, batch_y = mnist.train.next_batch(BATCH_SIZE)\n",
    "#             loss = sess.run(train_op, feed_dict={x: batch_x, y: batch_y})\n",
    "\n",
    "#         val_loss, val_acc = eval_data(mnist.validation)\n",
    "#         print(\"EPOCH {} ...\".format(i+1))\n",
    "#         print(\"Validation loss = {}\".format(val_loss))\n",
    "#         print(\"Validation accuracy = {}\".format(val_acc))\n",
    "\n",
    "    # Training cycle\n",
    "    for epoch in range(training_epochs):\n",
    "        total_batches = int(n_train/batch_size)\n",
    "        # Loop over all batches\n",
    "        batch_index = 0\n",
    "        for each_batch in range(total_batches):\n",
    "            batch_x, batch_y = next_batch(X_train, y_train,batch_index,batch_size)\n",
    "            print(batch_x[0][0][0])\n",
    "            # Run optimization op (backprop) and cost op (to get loss value)\n",
    "            loss = sess.run(train_op, feed_dict={x: batch_x, y: batch_y})\n",
    "#             print(loss)\n",
    "            batch_index +=  batch_size\n",
    "\n",
    "\n",
    "#         val_loss, val_acc = eval_data({x: valid_features, y: valid_labels,\n",
    "#                                        num_examples: len(valid_features)})\n",
    "#         print(\"EPOCH {} ...\".format(i+1))\n",
    "#         print(\"Validation loss = {}\".format(val_loss))\n",
    "#         print(\"Validation accuracy = {}\".format(val_acc))\n",
    "        \n",
    "    print(\"Optimization Finished!\")\n",
    "\n",
    "    # Evaluate on the test data\n",
    "#     test_loss, test_acc = eval_data({x: X_test, y: y_test})\n",
    "#     print(\"Test loss = {}\".format(test_loss))\n",
    "#     print(\"Test accuracy = {}\".format(test_acc))\n",
    "\n",
    "        \n",
    "# logits = conv_net(x, weights, biases)\n",
    "\n",
    "# # Define loss and optimizer\n",
    "# cost = tf.reduce_mean(tf.nn.softmax_cross_entropy_with_logits(logits, y))\n",
    "# optimizer = tf.train.GradientDescentOptimizer(learning_rate=learning_rate)\\\n",
    "#     .minimize(cost)\n",
    "# # optimizer = tf.train.AdamOptimizer().minimize(cost)\n",
    "\n",
    "\n",
    "# # Initializing the variables\n",
    "# init = tf.initialize_all_variables()\n",
    "\n",
    "# # # Launch the graph\n",
    "# # with tf.Session(config=tf.ConfigProto(log_device_placement=True)) as sess:\n",
    "# #     sess.run(init)\n",
    "# #     print(\"Optimization Started!\")\n",
    "# #     # Training cycle\n",
    "# #     for epoch in range(training_epochs):\n",
    "# #         total_batch = int(n_train/batch_size)\n",
    "# #         # Loop over all batches\n",
    "# #         batch_index = 0\n",
    "# #         for i in range(total_batch):\n",
    "# #             batch_x, batch_y = next_batch(X_train, y_train,batch_index,batch_size)\n",
    "# #             batch_index +=  batch_size\n",
    "# #             # Run optimization op (backprop) and cost op (to get loss value)\n",
    "# #             sess.run(optimizer, feed_dict={x: batch_x, y: batch_y})\n",
    "# #         # Display logs per epoch step\n",
    "# #         c = sess.run(cost, feed_dict={x: batch_x, y: batch_y})\n",
    "# #         print(\"Epoch:\", '%04d' % (epoch+1), \"cost=\", \"{:.9f}\".format(c),\\\n",
    "# #               \"time Now:\", time.strftime(\"%c\"))\n",
    "# #     print(\"Optimization Finished!\")\n",
    "\n",
    "# #     print(\"Test model Started!\", time.strftime(\"%c\"))\n",
    "# #     # Test model\n",
    "# #     correct_prediction = tf.equal(tf.argmax(logits, 1), tf.argmax(y, 1))\n",
    "# #     print(\"Test accuracy Started!\", time.strftime(\"%c\"))\n",
    "# #     # Calculate accuracy\n",
    "# #     accuracy = tf.reduce_mean(tf.cast(correct_prediction, \"float\"))\n",
    "# #     print(\n",
    "# #         \"Accuracy:\",\n",
    "# #         accuracy.eval({x: X_train, y: y_train}),time.strftime(\"%c\"))\n",
    "\n",
    "# # Launch the graph\n",
    "# with tf.Session() as sess:\n",
    "#     sess.run(init)\n",
    "#     print(\"Optimization Started!\")\n",
    "#     # Training cycle\n",
    "#     for epoch in range(training_epochs):\n",
    "#         total_batch = int(n_train/batch_size)\n",
    "#         # Loop over all batches\n",
    "#         batch_index = 0\n",
    "#         for i in range(total_batch):\n",
    "#             batch_x, batch_y = next_batch(X_train, y_train,batch_index,batch_size)\n",
    "#             batch_index +=  batch_size\n",
    "#             # Run optimization op (backprop) and cost op (to get loss value)\n",
    "#             sess.run(optimizer, feed_dict={x: batch_x, y: batch_y})\n",
    "#         # Display logs per epoch step\n",
    "#         c = sess.run(cost, feed_dict={x: batch_x, y: batch_y})\n",
    "#         print(\"Epoch:\", '%04d' % (epoch+1), \"cost=\", \"{:.9f}\".format(c),\\\n",
    "#               \"time Now:\", time.strftime(\"%c\"))\n",
    "#     print(\"Optimization Finished!\")\n",
    "\n",
    "#     print(\"Test model Started!\", time.strftime(\"%c\"))\n",
    "#     # Test model\n",
    "#     correct_prediction = tf.equal(tf.argmax(logits, 1), tf.argmax(y, 1))\n",
    "#     print(\"Test accuracy Started!\", time.strftime(\"%c\"))\n",
    "#     # Calculate accuracy\n",
    "#     accuracy = tf.reduce_mean(tf.cast(correct_prediction, \"float\"))\n",
    "#     print(\n",
    "#         \"Accuracy:\",\n",
    "#         accuracy.eval({x: X_test, y: y_test}),time.strftime(\"%c\"))\n"
   ]
  },
  {
   "cell_type": "markdown",
   "metadata": {},
   "source": [
    "### Question 4\n",
    "\n",
    "_How did you train your model? (Type of optimizer, batch size, epochs, hyperparameters, etc.)_\n"
   ]
  },
  {
   "cell_type": "markdown",
   "metadata": {},
   "source": [
    "**Answer:**"
   ]
  },
  {
   "cell_type": "markdown",
   "metadata": {},
   "source": [
    "### Question 5\n",
    "\n",
    "\n",
    "_What approach did you take in coming up with a solution to this problem?_"
   ]
  },
  {
   "cell_type": "markdown",
   "metadata": {},
   "source": [
    "**Answer:**"
   ]
  },
  {
   "cell_type": "markdown",
   "metadata": {},
   "source": [
    "---\n",
    "\n",
    "## Step 3: Test a Model on New Images\n",
    "\n",
    "Take several pictures of traffic signs that you find on the web or around you (at least five), and run them through your classifier on your computer to produce example results. The classifier might not recognize some local signs but it could prove interesting nonetheless.\n",
    "\n",
    "You may find `signnames.csv` useful as it contains mappings from the class id (integer) to the actual sign name."
   ]
  },
  {
   "cell_type": "markdown",
   "metadata": {},
   "source": [
    "### Implementation\n",
    "\n",
    "Use the code cell (or multiple code cells, if necessary) to implement the first step of your project. Once you have completed your implementation and are satisfied with the results, be sure to thoroughly answer the questions that follow."
   ]
  },
  {
   "cell_type": "code",
   "execution_count": 3,
   "metadata": {
    "collapsed": true
   },
   "outputs": [],
   "source": [
    "### Load the images and plot them here.\n",
    "### Feel free to use as many code cells as needed."
   ]
  },
  {
   "cell_type": "markdown",
   "metadata": {},
   "source": [
    "### Question 6\n",
    "\n",
    "_Choose five candidate images of traffic signs and provide them in the report. Are there any particular qualities of the image(s) that might make classification difficult? It would be helpful to plot the images in the notebook._\n",
    "\n"
   ]
  },
  {
   "cell_type": "markdown",
   "metadata": {},
   "source": [
    "**Answer:**"
   ]
  },
  {
   "cell_type": "code",
   "execution_count": 4,
   "metadata": {
    "collapsed": true
   },
   "outputs": [],
   "source": [
    "### Run the predictions here.\n",
    "### Feel free to use as many code cells as needed."
   ]
  },
  {
   "cell_type": "markdown",
   "metadata": {},
   "source": [
    "### Question 7\n",
    "\n",
    "_Is your model able to perform equally well on captured pictures or a live camera stream when compared to testing on the dataset?_\n"
   ]
  },
  {
   "cell_type": "markdown",
   "metadata": {},
   "source": [
    "**Answer:**"
   ]
  },
  {
   "cell_type": "code",
   "execution_count": null,
   "metadata": {
    "collapsed": true
   },
   "outputs": [],
   "source": [
    "### Visualize the softmax probabilities here.\n",
    "### Feel free to use as many code cells as needed."
   ]
  },
  {
   "cell_type": "markdown",
   "metadata": {},
   "source": [
    "### Question 8\n",
    "\n",
    "*Use the model's softmax probabilities to visualize the **certainty** of its predictions, [`tf.nn.top_k`](https://www.tensorflow.org/versions/r0.11/api_docs/python/nn.html#top_k) could prove helpful here. Which predictions is the model certain of? Uncertain? If the model was incorrect in its initial prediction, does the correct prediction appear in the top k? (k should be 5 at most)*\n"
   ]
  },
  {
   "cell_type": "markdown",
   "metadata": {},
   "source": [
    "**Answer:**"
   ]
  },
  {
   "cell_type": "markdown",
   "metadata": {},
   "source": [
    "### Question 9\n",
    "_If necessary, provide documentation for how an interface was built for your model to load and classify newly-acquired images._\n"
   ]
  },
  {
   "cell_type": "markdown",
   "metadata": {},
   "source": [
    "**Answer:**"
   ]
  },
  {
   "cell_type": "markdown",
   "metadata": {},
   "source": [
    "> **Note**: Once you have completed all of the code implementations and successfully answered each question above, you may finalize your work by exporting the iPython Notebook as an HTML document. You can do this by using the menu above and navigating to  \\n\",\n",
    "    \"**File -> Download as -> HTML (.html)**. Include the finished document along with this notebook as your submission."
   ]
  },
  {
   "cell_type": "code",
   "execution_count": null,
   "metadata": {
    "collapsed": true
   },
   "outputs": [],
   "source": []
  }
 ],
 "metadata": {
  "anaconda-cloud": {},
  "kernelspec": {
   "display_name": "Python [default]",
   "language": "python",
   "name": "python3"
  },
  "language_info": {
   "codemirror_mode": {
    "name": "ipython",
    "version": 3
   },
   "file_extension": ".py",
   "mimetype": "text/x-python",
   "name": "python",
   "nbconvert_exporter": "python",
   "pygments_lexer": "ipython3",
   "version": "3.5.2"
  }
 },
 "nbformat": 4,
 "nbformat_minor": 1
}
