{
 "cells": [
  {
   "cell_type": "markdown",
   "metadata": {
    "nbpresent": {
     "id": "9c20fb11-9c90-45a9-a4ea-610c602c496a"
    }
   },
   "source": [
    "# Self-Driving Car Engineer Nanodegree\n",
    "\n",
    "## Deep Learning\n",
    "\n",
    "## Project: Build a Traffic Sign Recognition Classifier\n",
    "\n",
    "In this notebook, a template is provided for you to implement your functionality in stages which is required to successfully complete this project. If additional code is required that cannot be included in the notebook, be sure that the Python code is successfully imported and included in your submission, if necessary. Sections that begin with **'Implementation'** in the header indicate where you should begin your implementation for your project. Note that some sections of implementation are optional, and will be marked with **'Optional'** in the header.\n",
    "\n",
    "In addition to implementing code, there will be questions that you must answer which relate to the project and your implementation. Each section where you will answer a question is preceded by a **'Question'** header. Carefully read each question and provide thorough answers in the following text boxes that begin with **'Answer:'**. Your project submission will be evaluated based on your answers to each of the questions and the implementation you provide.\n",
    "\n",
    ">**Note:** Code and Markdown cells can be executed using the **Shift + Enter** keyboard shortcut. In addition, Markdown cells can be edited by typically double-clicking the cell to enter edit mode."
   ]
  },
  {
   "cell_type": "markdown",
   "metadata": {},
   "source": [
    "## Download Prerequisite Data ##\n",
    "In order for the code cells to run correctly three pickle files need to be downloaded."
   ]
  },
  {
   "cell_type": "code",
   "execution_count": 1,
   "metadata": {
    "collapsed": true
   },
   "outputs": [],
   "source": [
    "# The pickle files are read in by the notebook but\n",
    "# aren't expected to be sent in back to udacity for evaluation.\n",
    "# Thus we get the files and provide them in the appropriate paths\n",
    "# for consumption by the subsequent code cells. Once done we delete\n",
    "# them from our repo and then submit for evaluation\n",
    "# wget https://d17h27t6h515a5.cloudfront.net/topher/2017/February/5898cd6f_traffic-signs-data/traffic-signs-data.zip\n",
    "# unzip traffic-signs-data.zip\n",
    "# eventually we will also delete the three pickled files extracted by the unzip operation\n",
    "# rm traffic-signs-data.zip"
   ]
  },
  {
   "cell_type": "markdown",
   "metadata": {},
   "source": [
    "### Setup relevant module imports ###\n",
    "For some reason, on the standard udacity-carnd ami, tensorflow installs end up on a different path than what the sys.path property is expecting. Hence i had to augment that property."
   ]
  },
  {
   "cell_type": "code",
   "execution_count": 2,
   "metadata": {
    "collapsed": false
   },
   "outputs": [],
   "source": [
    "import matplotlib.pyplot as plt\n",
    "import matplotlib.image as mpimg\n",
    "import numpy as np\n",
    "import pickle\n",
    "import sklearn\n",
    "import sys\n",
    "sys.path.append('/usr/local/lib/python3.5/dist-packages')\n",
    "import tensorflow as tf\n",
    "import time\n",
    "\n",
    "from PIL import Image\n",
    "from sklearn.preprocessing import LabelBinarizer\n",
    "from sklearn.cross_validation import train_test_split\n",
    "from tensorflow.examples.tutorials.mnist import input_data\n",
    "from tensorflow.contrib.layers import flatten\n",
    "\n",
    "%matplotlib inline"
   ]
  },
  {
   "cell_type": "markdown",
   "metadata": {
    "nbpresent": {
     "id": "ec4c5a02-ee7b-4d16-a7dd-8680818bbe1f"
    }
   },
   "source": [
    "\n",
    "\n",
    "## Step 1: Dataset Exploration\n",
    "\n",
    "Visualize the German Traffic Signs Dataset. This is open ended, some suggestions include: plotting traffic signs images, plotting the count of each sign, etc. Be creative!\n",
    "\n",
    "\n",
    "The pickled data is a dictionary with 4 key/value pairs:\n",
    "\n",
    "- features -> the images pixel values, (width, height, channels)\n",
    "- labels -> the label of the traffic sign\n",
    "- sizes -> the original width and height of the image, (width, height)\n",
    "- coords -> coordinates of a bounding box around the sign in the image, (x1, y1, x2, y2). Based the original image (not the resized version)."
   ]
  },
  {
   "cell_type": "code",
   "execution_count": 3,
   "metadata": {
    "collapsed": false,
    "nbpresent": {
     "id": "1cfe204d-d46a-47cc-ba40-ca84249c83da"
    }
   },
   "outputs": [],
   "source": [
    "# Load pickled data\n",
    "training_file = 'train.p'\n",
    "testing_file = 'test.p'\n",
    "\n",
    "with open(training_file, mode='rb') as f:\n",
    "    train = pickle.load(f)\n",
    "with open(testing_file, mode='rb') as f:\n",
    "    test = pickle.load(f)\n",
    "    \n",
    "X_train, y_train = train['features'], train['labels']\n",
    "X_test, y_test = test['features'], test['labels']\n",
    "\n",
    "original_y_train = y_train\n",
    "setOfLabels = set(y_train)\n",
    "X_train_mean = np.mean(X_train)\n",
    "\n",
    "# Free up memory\n",
    "del train  \n",
    "del test"
   ]
  },
  {
   "cell_type": "code",
   "execution_count": 4,
   "metadata": {
    "collapsed": false,
    "nbpresent": {
     "id": "5f7aee15-5c4c-4684-9ad8-0f22df3098b3"
    }
   },
   "outputs": [
    {
     "name": "stdout",
     "output_type": "stream",
     "text": [
      "Labels One-Hot Encoded\n"
     ]
    }
   ],
   "source": [
    "# Turn labels into numbers and apply One-Hot Encoding\n",
    "encoder = LabelBinarizer()\n",
    "encoder.fit(y_train)\n",
    "y_train = encoder.transform(y_train)\n",
    "y_test = encoder.transform(y_test)\n",
    "\n",
    "# Change to float32, so it can be multiplied against the features in TensorFlow, which are float32\n",
    "y_train = y_train.astype(np.float32)\n",
    "y_test = y_test.astype(np.float32)\n",
    "\n",
    "print('Labels One-Hot Encoded')"
   ]
  },
  {
   "cell_type": "code",
   "execution_count": 5,
   "metadata": {
    "collapsed": false,
    "nbpresent": {
     "id": "62d87a6e-72cf-4bb3-adde-b8838fa8b3cc"
    }
   },
   "outputs": [
    {
     "data": {
      "image/png": "[encoded data removed]",
      "text/plain": [
       "<matplotlib.figure.Figure at 0x7fc370734358>"
      ]
     },
     "metadata": {},
     "output_type": "display_data"
    }
   ],
   "source": [
    "### To start off let's do a basic data summary.\n",
    "\n",
    "n_train = len(X_train)\n",
    "n_test = len(X_test)\n",
    "image_shape = X_train[0].shape\n",
    "n_classes = len(y_train[0])\n",
    "\n",
    "fig = plt.figure()\n",
    "fig.suptitle('Basic data summary', fontsize=14, fontweight='bold')\n",
    "ax = fig.add_subplot(111)\n",
    "fig.subplots_adjust(top=0.85)\n",
    "ax.text(2, 6, \"Number of training examples = \"+str(n_train))\n",
    "ax.text(2, 5, \"Number of testing examples = \"+str(n_test))\n",
    "ax.text(2, 4, \"Image data shape = \"+str(image_shape))\n",
    "ax.text(2, 3, \"Number of classes = \"+str(n_classes))\n",
    "ax.axis([0, 10, 0, 10])\n",
    "plt.savefig('output_for_readme/data_summary.jpg')\n",
    "plt.show()"
   ]
  },
  {
   "cell_type": "code",
   "execution_count": 6,
   "metadata": {
    "collapsed": false,
    "nbpresent": {
     "id": "c63b62ef-f531-43ef-83f0-43bc5756c556"
    }
   },
   "outputs": [
    {
     "data": {
      "image/png": "[encoded data removed]",
      "text/plain": [
       "<matplotlib.figure.Figure at 0x7fc314d1e320>"
      ]
     },
     "metadata": {},
     "output_type": "display_data"
    }
   ],
   "source": [
    "### Data exploration visualization goes here.\n",
    "labelDistribution = {}\n",
    "for label in setOfLabels:\n",
    "    for idx, val in enumerate(X_train):\n",
    "        if original_y_train[idx] == label:\n",
    "            if label in labelDistribution:\n",
    "                labelDistribution[label] += 1\n",
    "            else:\n",
    "                labelDistribution[label] = 1\n",
    "\n",
    "labelArray = []\n",
    "featureCountByLabelArray = []\n",
    "for key, value in labelDistribution.items():\n",
    "    labelArray.append(key)\n",
    "    featureCountByLabelArray.append(value)\n",
    "\n",
    "plt.plot(labelArray,featureCountByLabelArray,'ro')\n",
    "plt.suptitle('Feature distribution  summary', fontsize=14, fontweight='bold')\n",
    "plt.ylabel('Number of features')\n",
    "plt.xlabel('labels')\n",
    "plt.savefig('output_for_readme/label_distribution.jpg')\n",
    "plt.show()"
   ]
  },
  {
   "cell_type": "markdown",
   "metadata": {
    "nbpresent": {
     "id": "7820b8bf-3777-4504-a4e0-f0a94a71a8e2"
    }
   },
   "source": [
    "----\n",
    "\n",
    "## Step 2: Design and Test a Model Architecture\n",
    "\n",
    "Design and implement a deep learning model that learns to recognize traffic signs. Train and test your model on the [German Traffic Sign Dataset](http://benchmark.ini.rub.de/?section=gtsrb&subsection=dataset).\n",
    "\n",
    "There are various aspects to consider when thinking about this problem:\n",
    "\n",
    "- Your model can be derived from a deep feedforward net or a deep convolutional network.\n",
    "- Play around preprocessing techniques (normalization, rgb to grayscale, etc)\n",
    "- Number of examples per label (some have more than others).\n",
    "- Generate fake data.\n",
    "\n",
    "Here is an example of a [published baseline model on this problem](http://yann.lecun.com/exdb/publis/pdf/sermanet-ijcnn-11.pdf). It's not required to be familiar with the approach used in the paper but, it's good practice to try to read papers like these."
   ]
  },
  {
   "cell_type": "markdown",
   "metadata": {
    "nbpresent": {
     "id": "a7bd6deb-53ca-4895-9447-b1272b95b4a2"
    }
   },
   "source": [
    "### Implementation\n",
    "\n",
    "Use the code cell (or multiple code cells, if necessary) to implement the first step of your project. Once you have completed your implementation and are satisfied with the results, be sure to thoroughly answer the questions that follow."
   ]
  },
  {
   "cell_type": "code",
   "execution_count": 7,
   "metadata": {
    "collapsed": false,
    "nbpresent": {
     "id": "a9bb3a45-0e53-4eb7-889b-cc6e82dc65d3"
    }
   },
   "outputs": [],
   "source": [
    "### Preprocess the data here.\n",
    "### Feel free to use as many code cells as needed.\n",
    "def normalize_greyscale(image_data):\n",
    "    \"\"\"\n",
    "    Normalize the image data with Min-Max scaling to a range of [0.1, 0.9]\n",
    "    :param image_data: The image data to be normalized\n",
    "    :return: Normalized image data\n",
    "    \"\"\"\n",
    "    output_array = []\n",
    "    a = 0.1\n",
    "    b = 0.9\n",
    "    x_max = 255\n",
    "    x_min = 0\n",
    "\n",
    "    return  a+(((image_data - x_min)*(b - a))/(x_max - x_min)) \n",
    "\n",
    "X_train = np.mean(X_train, axis=3)\n",
    "X_train = normalize_greyscale(X_train)\n",
    "\n",
    "X_test = np.mean(X_test, axis=3)\n",
    "X_test = normalize_greyscale(X_test)"
   ]
  },
  {
   "cell_type": "markdown",
   "metadata": {
    "nbpresent": {
     "id": "a7de670a-f06d-4b45-abc9-473a1c1c2a3c"
    }
   },
   "source": [
    "### Question 1 \n",
    "\n",
    "_Describe the techniques used to preprocess the data._"
   ]
  },
  {
   "cell_type": "markdown",
   "metadata": {
    "nbpresent": {
     "id": "c408af92-53aa-43a7-9d32-e2d6e7c3e8b4"
    }
   },
   "source": [
    "**Answer:**\n",
    "The data has been run through -\n",
    "- np.mean(axis=3) - this squelches the data to 32X32 from 32x32x3\n",
    "- normalize_greyscale() - this transforms the 0-255 to 0.1-0.9"
   ]
  },
  {
   "cell_type": "code",
   "execution_count": 8,
   "metadata": {
    "collapsed": false,
    "nbpresent": {
     "id": "e21911ba-4f24-4fbc-8a28-eb359a34acd9"
    }
   },
   "outputs": [],
   "source": [
    "### Generate data additional (if you want to!)\n",
    "### and split the data into training/validation/testing sets here.\n",
    "### Feel free to use as many code cells as needed.\n",
    "# Get randomized datasets for training and validation\n",
    "X_train_features, X_valid_features, y_train_labels, y_valid_labels = train_test_split(\n",
    "    X_train,\n",
    "    y_train,\n",
    "    test_size=0.10,\n",
    "    random_state=0)"
   ]
  },
  {
   "cell_type": "markdown",
   "metadata": {
    "nbpresent": {
     "id": "3ebc687e-decf-4324-927b-0581c676aab5"
    }
   },
   "source": [
    "### Question 2\n",
    "\n",
    "_Describe how you set up the training, validation and testing data for your model. If you generated additional data, why?_"
   ]
  },
  {
   "cell_type": "markdown",
   "metadata": {
    "nbpresent": {
     "id": "a2413f4d-4088-4925-a015-3e924c092471"
    }
   },
   "source": [
    "**Answer:**\n",
    "use train_test_split to use 10% of original training features to be validation set. Thus actual training occurs on 90% of the oriinal features."
   ]
  },
  {
   "cell_type": "code",
   "execution_count": 9,
   "metadata": {
    "collapsed": true,
    "nbpresent": {
     "id": "6de230f9-a8ab-4f6b-a880-57e906676fe8"
    }
   },
   "outputs": [],
   "source": [
    "### Define your architecture here.\n",
    "### Feel free to use as many code cells as needed."
   ]
  },
  {
   "cell_type": "markdown",
   "metadata": {
    "nbpresent": {
     "id": "9abed175-1a1c-4717-a41b-544171ca43d2"
    }
   },
   "source": [
    "### Question 3\n",
    "\n",
    "_What does your final architecture look like? (Type of model, layers, sizes, connectivity, etc.)  For reference on how to build a deep neural network using TensorFlow, see [Deep Neural Network in TensorFlow\n",
    "](https://classroom.udacity.com/nanodegrees/nd013/parts/fbf77062-5703-404e-b60c-95b78b2f3f9e/modules/6df7ae49-c61c-4bb2-a23e-6527e69209ec/lessons/b516a270-8600-4f93-a0a3-20dfeabe5da6/concepts/83a3a2a2-a9bd-4b7b-95b0-eb924ab14432) from the classroom._\n"
   ]
  },
  {
   "cell_type": "markdown",
   "metadata": {
    "nbpresent": {
     "id": "b59b7425-3cca-45b0-a6fb-5b0fb677eaf2"
    }
   },
   "source": [
    "**Answer:**\n",
    "uses a variant of the leNet architecture\n",
    "- INPUT -> CONV -> ACT -> POOL -> CONV -> ACT -> POOL -> FLATTEN -> FC -> ACT -> FC"
   ]
  },
  {
   "cell_type": "code",
   "execution_count": 10,
   "metadata": {
    "collapsed": false,
    "nbpresent": {
     "id": "26698b43-e7cb-454b-82a7-57ab4216e91c"
    }
   },
   "outputs": [
    {
     "name": "stdout",
     "output_type": "stream",
     "text": [
      "begin first epoch loss calc = Sat Feb 25 23:12:13 2017\n",
      "23:12:42 1 loss = 2.775401654066863 accuracy = 0.2800925925925926\n",
      "23:13:12 2 loss = 1.7020655119860615 accuracy = 0.5520833333333334\n",
      "23:13:41 3 loss = 1.2882233383478943 accuracy = 0.6675347222222222\n",
      "23:14:10 4 loss = 1.045365196687204 accuracy = 0.7213541666666666\n",
      "23:14:39 5 loss = 0.9023317065503862 accuracy = 0.7664930555555556\n",
      "23:15:08 6 loss = 0.7821040440488745 accuracy = 0.8000578703703703\n",
      "23:15:37 7 loss = 0.694635201935415 accuracy = 0.8246527777777778\n",
      "23:16:06 8 loss = 0.6086915212648886 accuracy = 0.8504050925925926\n",
      "23:16:35 9 loss = 0.5550659078138845 accuracy = 0.8614004629629629\n",
      "23:17:04 10 loss = 0.5300126194402024 accuracy = 0.8611111111111112\n",
      "23:17:33 11 loss = 0.46771086780009447 accuracy = 0.8787615740740741\n",
      "23:18:02 12 loss = 0.42455668029961763 accuracy = 0.9007523148148148\n",
      "23:18:32 13 loss = 0.41841624125286386 accuracy = 0.8935185185185185\n",
      "23:19:01 14 loss = 0.38578038855835245 accuracy = 0.9016203703703703\n",
      "23:19:30 15 loss = 0.3692125622872953 accuracy = 0.9100115740740741\n",
      "23:19:59 16 loss = 0.3481449531736197 accuracy = 0.9131944444444444\n",
      "23:20:28 17 loss = 0.32730574698911774 accuracy = 0.9192708333333334\n",
      "23:20:57 18 loss = 0.3397261326511701 accuracy = 0.9189814814814815\n",
      "23:21:26 19 loss = 0.29772169625869505 accuracy = 0.9285300925925926\n",
      "23:21:55 20 loss = 0.2892687810515916 accuracy = 0.9322916666666666\n",
      "23:22:24 21 loss = 0.286725211750578 accuracy = 0.9334490740740741\n",
      "23:22:54 22 loss = 0.2693630310672301 accuracy = 0.9351851851851852\n",
      "23:23:23 23 loss = 0.25761903242932427 accuracy = 0.9424189814814815\n",
      "23:23:52 24 loss = 0.26277265490757096 accuracy = 0.9372106481481481\n",
      "23:24:21 25 loss = 0.26571173289859734 accuracy = 0.9401041666666666\n",
      "23:24:50 26 loss = 0.23491890818156577 accuracy = 0.9458912037037037\n",
      "23:25:19 27 loss = 0.282193002877412 accuracy = 0.9331597222222222\n",
      "23:25:48 28 loss = 0.22167813598557753 accuracy = 0.9484953703703703\n",
      "23:26:17 29 loss = 0.2205004926632952 accuracy = 0.9467592592592593\n",
      "23:26:47 30 loss = 0.22352739299337068 accuracy = 0.9516782407407407\n",
      "Test loss = 0.9766581954084678 Test accuracy = 0.8504917512690355\n"
     ]
    }
   ],
   "source": [
    "### Train your model here.\n",
    "### Feel free to use as many code cells as needed.\n",
    "\n",
    "learning_rate = 0.001\n",
    "EPOCHS = 30\n",
    "BATCH_SIZE = 64\n",
    "dropout = 0.75 # Dropout, probability to keep units\n",
    "\n",
    "def LeNet(x):\n",
    "    # Reshape from 2D to 4D. This prepares the data for\n",
    "    # convolutional and pooling layers.\n",
    "    x = tf.reshape(x, (-1, 32, 32, 1))\n",
    "    # Squish values from 0-255 to 0-1.\n",
    "    x /= 255.\n",
    "\n",
    "    # TODO: Define the LeNet architecture.\n",
    "    # Return the result of the last fully connected layer.\n",
    "    # 28x28x6\n",
    "    conv1_W = tf.Variable(tf.truncated_normal(shape=(5, 5, 1, 6)))\n",
    "    conv1_b = tf.Variable(tf.zeros(6))\n",
    "    conv1 = tf.nn.conv2d(x, conv1_W, strides=[1, 1, 1, 1], padding='VALID') + conv1_b\n",
    "    conv1 = tf.nn.relu(conv1)\n",
    "    conv1 = tf.nn.dropout(conv1, dropout)\n",
    "\n",
    "    # 14x14x6\n",
    "    conv1 = tf.nn.max_pool(conv1, ksize=[1, 2, 2, 1], strides=[1, 2, 2, 1], padding='VALID')\n",
    "\n",
    "    # 10x10x16\n",
    "    conv2_W = tf.Variable(tf.truncated_normal(shape=(5, 5, 6, 16)))\n",
    "    conv2_b = tf.Variable(tf.zeros(16))\n",
    "    conv2 = tf.nn.conv2d(conv1, conv2_W, strides=[1, 1, 1, 1], padding='VALID') + conv2_b\n",
    "    conv2 = tf.nn.relu(conv2)\n",
    "\n",
    "    # 5x5x16\n",
    "    conv2 = tf.nn.max_pool(conv2, ksize=[1, 2, 2, 1], strides=[1, 2, 2, 1], padding='VALID')\n",
    "\n",
    "    # Flatten\n",
    "    fc1 = flatten(conv2)\n",
    "    \n",
    "    # (5 * 5 * 16, 120)\n",
    "    fc1_shape = (fc1.get_shape().as_list()[-1], 120)\n",
    "    fc1_W = tf.Variable(tf.truncated_normal(shape=(fc1_shape)))\n",
    "    fc1_b = tf.Variable(tf.zeros(120))\n",
    "    fc1 = tf.matmul(fc1, fc1_W) + fc1_b\n",
    "    fc1 = tf.nn.relu(fc1)\n",
    "\n",
    "    fc2_W = tf.Variable(tf.truncated_normal(shape=(120, 43)))\n",
    "    fc2_b = tf.Variable(tf.zeros(43))\n",
    "    return tf.matmul(fc1, fc2_W) + fc2_b\n",
    "\n",
    "\n",
    "# input data consists of 32x32, grayscale min-max scaled images.\n",
    "x = tf.placeholder(tf.float32, (None, 32,32))\n",
    "# Classify over 43 digits 0-42.\n",
    "y = tf.placeholder(tf.float32, (None, 43))\n",
    "# Create the LeNet.\n",
    "fc2 = LeNet(x)\n",
    "\n",
    "loss_op = tf.reduce_mean(tf.nn.softmax_cross_entropy_with_logits(logits=fc2, labels=y))\n",
    "# not using GSD as i found it to not converge quickly enough\n",
    "# opt = tf.train.GradientDescentOptimizer(learning_rate=learning_rate)\n",
    "opt = tf.train.AdamOptimizer()\n",
    "train_op = opt.minimize(loss_op)\n",
    "correct_prediction = tf.equal(tf.argmax(fc2, 1), tf.argmax(y, 1))\n",
    "accuracy_op = tf.reduce_mean(tf.cast(correct_prediction, tf.float32))\n",
    "\n",
    "# convenience next_batch function\n",
    "def next_batch(x, y, batch_index, batch_size):\n",
    "    start = batch_index + 1\n",
    "    end = start + batch_size\n",
    "    return x[start:end, :], y[start:end, :]\n",
    "\n",
    "def eval_data(features,labels):\n",
    "    \"\"\"\n",
    "    Given features and lables as input, returns the loss and accuracy.\n",
    "    \"\"\"\n",
    "    steps_per_epoch = len(features) // BATCH_SIZE\n",
    "    num_examples = steps_per_epoch * BATCH_SIZE\n",
    "\n",
    "    total_acc, total_loss = 0, 0\n",
    "    batch_index = 0    \n",
    "    for step in range(steps_per_epoch):\n",
    "        batch_x, batch_y = next_batch(features, labels,batch_index,BATCH_SIZE)\n",
    "        loss, acc = sess.run([loss_op, accuracy_op], feed_dict={x: batch_x, y: batch_y})\n",
    "        total_acc += (acc * batch_x.shape[0])\n",
    "        total_loss += (loss * batch_x.shape[0])\n",
    "        batch_index +=  BATCH_SIZE\n",
    "    return total_loss/num_examples, total_acc/num_examples\n",
    "\n",
    "if __name__ == '__main__':\n",
    "\n",
    "    with tf.Session() as sess:\n",
    "        sess.run(tf.global_variables_initializer())\n",
    "        steps_per_epoch = len(X_train_features) // BATCH_SIZE\n",
    "        num_examples = steps_per_epoch * BATCH_SIZE\n",
    "        print(\"begin first epoch loss calc =\", time.strftime(\"%c\"))\n",
    "        \n",
    "        # Training cycle\n",
    "        for i in range(EPOCHS):\n",
    "            batch_index = 0\n",
    "            for step in range(steps_per_epoch):\n",
    "                batch_x, batch_y = next_batch(X_train_features, y_train_labels,\n",
    "                    batch_index,BATCH_SIZE)\n",
    "                # Run optimization op (backprop) and cost op (to get loss value)\n",
    "                loss = sess.run(train_op, feed_dict={x: batch_x, y: batch_y})\n",
    "                batch_index +=  BATCH_SIZE\n",
    "\n",
    "            #val_loss, val_acc = eval_data(valid_features,valid_labels)\n",
    "            val_loss, val_acc = eval_data(X_valid_features, y_valid_labels)\n",
    "            print(time.strftime(\"%X\"),\"{}\".format(i+1),\n",
    "                  \"loss = {}\".format(val_loss),\"accuracy = {}\".format(val_acc))\n",
    "\n",
    "        # Evaluate on the test data\n",
    "        #test_loss, test_acc = eval_data(X_test,y_test)\n",
    "        test_loss, test_acc = eval_data(X_test, y_test)\n",
    "        print(\"Test loss = {}\".format(test_loss),\n",
    "              \"Test accuracy = {}\".format(test_acc))\n"
   ]
  },
  {
   "cell_type": "markdown",
   "metadata": {
    "nbpresent": {
     "id": "34b31564-5d88-4c99-95b2-c9a89c0f5ee9"
    }
   },
   "source": [
    "### Question 4\n",
    "\n",
    "_How did you train your model? (Type of optimizer, batch size, epochs, hyperparameters, etc.)_\n"
   ]
  },
  {
   "cell_type": "markdown",
   "metadata": {
    "nbpresent": {
     "id": "cff6dda5-c57b-4307-b7b1-3234fe72a461"
    }
   },
   "source": [
    "**Answer:**\n",
    "I started with default hyperparameters of 30 epochs/64 as batch_size and x/=255 as the data sqleching. Then over a series of test varied these. Noted the validation accuracy/loss as well as the test accuracy/loss. The goal is to get the highest accuracy / least loss possible.\n",
    "Results are here - https://drive.google.com/file/d/0B9vOjB65N3QkOUhfMElydUZ0MEE/view?usp=sharing"
   ]
  },
  {
   "cell_type": "markdown",
   "metadata": {
    "nbpresent": {
     "id": "1ad6dd6f-8069-4f35-8a20-3fa2e8c18d71"
    }
   },
   "source": [
    "### Question 5\n",
    "\n",
    "\n",
    "_What approach did you take in coming up with a solution to this problem?_"
   ]
  },
  {
   "cell_type": "markdown",
   "metadata": {
    "nbpresent": {
     "id": "d0c49278-eef8-458c-8c19-40067e090d4c"
    }
   },
   "source": [
    "**Answer:**\n",
    "I considered doing a basic feed forward network and initially used the template supplied in the lectures. However i found the lenet architecture less verbose and easy to understand at a glance, so i adopted that one."
   ]
  },
  {
   "cell_type": "markdown",
   "metadata": {
    "nbpresent": {
     "id": "b65ee404-5eb6-420a-acc5-6174dfabc963"
    }
   },
   "source": [
    "---\n",
    "\n",
    "## Step 3: Test a Model on New Images\n",
    "\n",
    "Take several pictures of traffic signs that you find on the web or around you (at least five), and run them through your classifier on your computer to produce example results. The classifier might not recognize some local signs but it could prove interesting nonetheless.\n",
    "\n",
    "You may find `signnames.csv` useful as it contains mappings from the class id (integer) to the actual sign name."
   ]
  },
  {
   "cell_type": "markdown",
   "metadata": {
    "nbpresent": {
     "id": "0b24bfa9-a45c-4903-81f3-e02eabc658c4"
    }
   },
   "source": [
    "### Implementation\n",
    "\n",
    "Use the code cell (or multiple code cells, if necessary) to implement the first step of your project. Once you have completed your implementation and are satisfied with the results, be sure to thoroughly answer the questions that follow."
   ]
  },
  {
   "cell_type": "code",
   "execution_count": 11,
   "metadata": {
    "collapsed": false,
    "nbpresent": {
     "id": "bf353632-4e45-45fb-ae93-b400bd675959"
    }
   },
   "outputs": [],
   "source": [
    "### Load the images and plot them here.\n",
    "### Feel free to use as many code cells as needed.\n",
    "\n",
    "newImagePaths = ['images_from_web/no_entry_cropped.jpg',\n",
    "                 'images_from_web/speed_limit_60_cropped.jpg',\n",
    "                 'images_from_web/right_of_way_cropped.jpg',\n",
    "                 'images_from_web/pedestrians_cropped.jpg',\n",
    "                 'images_from_web/road_work_cropped.jpg']\n",
    "thumbnails = []\n",
    "\n",
    "def populateImageArrayCollection(image):\n",
    "    image= image.resize((32,32),Image.ANTIALIAS)\n",
    "    thumbnailArray = np.reshape(image,(32,32,3))\n",
    "    thumbnails.append(thumbnailArray)\n",
    "    return thumbnails\n",
    "\n",
    "def populateNewImages():\n",
    "    for imagePath in newImagePaths:\n",
    "        thumbnails = populateImageArrayCollection(\n",
    "            Image.open(imagePath))\n",
    "    thumbnails = np.asarray(thumbnails,dtype=np.float32); \n",
    "    return thumbnails \n",
    "\n",
    "newImages = populateNewImages()\n",
    "# newImages above is 32x32x3 - so transform as needed, just like the\n",
    "# training set preprocessing\n",
    "newImages = np.mean(newImages, axis=3)\n",
    "newImages = normalize_greyscale(newImages)\n",
    "\n",
    "def populateOHELabelsForNewImages():\n",
    "    no_entry_cropped_label = np.zeros((1,43))\n",
    "    no_entry_cropped_label[0,17] = 1\n",
    "    speed_limit_60_cropped_label = np.zeros((1,43))\n",
    "    speed_limit_60_cropped_label[0,3] = 1\n",
    "    right_of_way_cropped_label = np.zeros((1,43))\n",
    "    right_of_way_cropped_label[0,11] = 1\n",
    "    pedestrians_cropped_label = np.zeros((1,43))\n",
    "    pedestrians_cropped_label[0,27] = 1\n",
    "    road_work_cropped_label = np.zeros((1,43))\n",
    "    road_work_cropped_label[0,25] = 1\n",
    "    return np.vstack([no_entry_cropped_label,\n",
    "                      speed_limit_60_cropped_label,\n",
    "                      right_of_way_cropped_label,\n",
    "                      pedestrians_cropped_label,\n",
    "                      road_work_cropped_label])\n",
    "\n",
    "newImagesOHELabels = populateOHELabelsForNewImages()"
   ]
  },
  {
   "cell_type": "markdown",
   "metadata": {
    "nbpresent": {
     "id": "58daad7e-070e-4579-b925-2850901593e6"
    }
   },
   "source": [
    "### Question 6\n",
    "\n",
    "_Choose five candidate images of traffic signs and provide them in the report. Are there any particular qualities of the image(s) that might make classification difficult? It would be helpful to plot the images in the notebook._\n",
    "\n"
   ]
  },
  {
   "cell_type": "markdown",
   "metadata": {
    "nbpresent": {
     "id": "efb60ab4-5249-4f2f-90f5-01923162caf3"
    }
   },
   "source": [
    "**Answer:**\n",
    "Five random German traffic signs were collected online and roughly cropped to be about square. each image was a jpeg. Then code was written to resize these to be 32x32x3 each.\n",
    "There is an image of a pedestrian walking that might not match exactly  in the sample set supplied, so maybe that would be off. All other are pretty crisp to start with and should generally classified to the 85% accuracy or so reported by the test set."
   ]
  },
  {
   "cell_type": "code",
   "execution_count": 12,
   "metadata": {
    "collapsed": false,
    "nbpresent": {
     "id": "5262d4ff-8e4b-4212-a667-97a9e7ee31b7"
    }
   },
   "outputs": [
    {
     "name": "stdout",
     "output_type": "stream",
     "text": [
      "['images_from_web/no_entry_cropped.jpg', 'images_from_web/speed_limit_60_cropped.jpg', 'images_from_web/right_of_way_cropped.jpg', 'images_from_web/pedestrians_cropped.jpg', 'images_from_web/road_work_cropped.jpg']\n",
      "[[ 0.258  0.169  0.099  0.09   0.085]\n",
      " [ 0.279  0.214  0.209  0.07   0.043]\n",
      " [ 0.771  0.051  0.032  0.028  0.018]\n",
      " [ 0.756  0.179  0.035  0.01   0.007]\n",
      " [ 0.345  0.161  0.148  0.135  0.056]]\n",
      "[[39  6 23  8 16]\n",
      " [14 39 23 16  1]\n",
      " [23 39 35  1 16]\n",
      " [14 23 39 35 16]\n",
      " [23  1 39 35  5]]\n"
     ]
    }
   ],
   "source": [
    "### Run the predictions for the new images here.\n",
    "### Feel free to use as many code cells as needed.\n",
    "init_op = tf.global_variables_initializer()\n",
    "prediction = tf.nn.softmax(fc2)\n",
    "topPredictions=tf.nn.top_k(prediction, k=5, sorted=True, name=None)\n",
    "\n",
    "top_k_feed_dict = {x: newImages, y: newImagesOHELabels}\n",
    "\n",
    "with tf.Session() as session:\n",
    "    # Run the init operation.\n",
    "    session.run(init_op)\n",
    "    top_k_pred = session.run(topPredictions, feed_dict = top_k_feed_dict)\n",
    "    top5_pred_sftmax = top_k_pred[0]\n",
    "    top5_pred_labels = top_k_pred[1]\n",
    "\n",
    "print(newImagePaths)\n",
    "np.set_printoptions(precision=3)\n",
    "print(top5_pred_sftmax)\n",
    "print(top5_pred_labels)\n"
   ]
  },
  {
   "cell_type": "markdown",
   "metadata": {
    "nbpresent": {
     "id": "057c050d-fd98-4734-8e23-0d30a21cabca"
    }
   },
   "source": [
    "### Question 7\n",
    "\n",
    "_Is your model able to perform equally well on captured pictures or a live camera stream when compared to testing on the dataset?_\n"
   ]
  },
  {
   "cell_type": "markdown",
   "metadata": {
    "nbpresent": {
     "id": "76ab55b0-3249-4ac7-9a2d-00cc5ba78cf8"
    }
   },
   "source": [
    "**Answer:**\n",
    "Based on the above there appears to be a rather poor classification of images obtained from the web.\n",
    "The above indicates that the following was inferred (using signnames.csv)-\n",
    "- 'no_entry_cropped.jpg'-> 39:Keep left\n",
    "- 'speed_limit_60_cropped.jpg'-> 14:Stop\n",
    "- 'right_of_way_cropped.jpg'-> 23:Slippery Road\n",
    "- 'pedestrians_cropped.jpg'-> 14:Stop \n",
    "- 'road_work_cropped.jpg'-> 23:Slippery Road"
   ]
  },
  {
   "cell_type": "code",
   "execution_count": 13,
   "metadata": {
    "collapsed": false,
    "nbpresent": {
     "id": "1b4db250-6ba9-4675-af83-cece21edf50c"
    }
   },
   "outputs": [
    {
     "name": "stdout",
     "output_type": "stream",
     "text": [
      "[[ 0.338  0.297  0.185  0.09   0.031]\n",
      " [ 0.405  0.259  0.174  0.066  0.034]\n",
      " [ 0.319  0.262  0.197  0.08   0.074]\n",
      " ..., \n",
      " [ 0.414  0.309  0.114  0.054  0.054]\n",
      " [ 0.388  0.285  0.143  0.066  0.036]\n",
      " [ 0.3    0.198  0.135  0.13   0.097]]\n",
      "[[ 1  5 13 34 17]\n",
      " [ 5  1 34 17 13]\n",
      " [ 1 34  5 17 13]\n",
      " ..., \n",
      " [34 17  5 30  1]\n",
      " [34  5 17  1 30]\n",
      " [17  5 34 20  1]]\n"
     ]
    }
   ],
   "source": [
    "### Visualize the softmax probabilities here.\n",
    "### Feel free to use as many code cells as needed.\n",
    "init_op = tf.global_variables_initializer()\n",
    "prediction = tf.nn.softmax(fc2)\n",
    "topPredictions=tf.nn.top_k(prediction, k=5, sorted=True, name=None)\n",
    "\n",
    "top_k_feed_dict = {x: X_train, y: y_train}\n",
    "\n",
    "with tf.Session() as session:\n",
    "    # Run the init operation.\n",
    "    session.run(init_op)\n",
    "    top_k_pred = session.run(topPredictions, feed_dict = top_k_feed_dict)\n",
    "    top5_pred_sftmax = top_k_pred[0]\n",
    "    top5_pred_labels = top_k_pred[1]\n",
    "\n",
    "# print(newImagePaths)\n",
    "np.set_printoptions(precision=3)\n",
    "print(top5_pred_sftmax)\n",
    "print(top5_pred_labels)"
   ]
  },
  {
   "cell_type": "markdown",
   "metadata": {
    "nbpresent": {
     "id": "94390a42-b626-44c4-9583-a4aafb00d581"
    }
   },
   "source": [
    "### Question 8\n",
    "\n",
    "*Use the model's softmax probabilities to visualize the **certainty** of its predictions, [`tf.nn.top_k`](https://www.tensorflow.org/versions/r0.11/api_docs/python/nn.html#top_k) could prove helpful here. Which predictions is the model certain of? Uncertain? If the model was incorrect in its initial prediction, does the correct prediction appear in the top k? (k should be 5 at most)*\n"
   ]
  },
  {
   "cell_type": "markdown",
   "metadata": {
    "nbpresent": {
     "id": "bc9f3899-ac90-484b-ba14-9b748bca5e1d"
    }
   },
   "source": [
    "**Answer:**\n",
    "Based on the above there appears to be a rather poor **certainty** of predictions, as the probablities are almost uniformly distributed.\n"
   ]
  },
  {
   "cell_type": "markdown",
   "metadata": {
    "nbpresent": {
     "id": "6ee1f183-aa87-4aa3-8148-bf98023c5fcb"
    }
   },
   "source": [
    "### Question 9\n",
    "_If necessary, provide documentation for how an interface was built for your model to load and classify newly-acquired images._\n"
   ]
  },
  {
   "cell_type": "markdown",
   "metadata": {
    "nbpresent": {
     "id": "1b670e50-e6f7-4b83-b80e-749b6c1fac93"
    }
   },
   "source": [
    "**Answer:**\n",
    "A web or native GUI interface has not been provided."
   ]
  },
  {
   "cell_type": "markdown",
   "metadata": {
    "nbpresent": {
     "id": "6e67c6d3-9296-4d14-953f-2d6703907a10"
    }
   },
   "source": [
    "> **Note**: Once you have completed all of the code implementations and successfully answered each question above, you may finalize your work by exporting the iPython Notebook as an HTML document. You can do this by using the menu above and navigating to  \\n\",\n",
    "    \"**File -> Download as -> HTML (.html)**. Include the finished document along with this notebook as your submission."
   ]
  }
 ],
 "metadata": {
  "anaconda-cloud": {},
  "kernelspec": {
   "display_name": "Python [default]",
   "language": "python",
   "name": "python3"
  },
  "language_info": {
   "codemirror_mode": {
    "name": "ipython",
    "version": 3
   },
   "file_extension": ".py",
   "mimetype": "text/x-python",
   "name": "python",
   "nbconvert_exporter": "python",
   "pygments_lexer": "ipython3",
   "version": "3.5.2"
  }
 },
 "nbformat": 4,
 "nbformat_minor": 1
}
